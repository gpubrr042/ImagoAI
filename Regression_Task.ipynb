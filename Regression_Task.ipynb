{
  "nbformat": 4,
  "nbformat_minor": 0,
  "metadata": {
    "colab": {
      "provenance": [],
      "machine_shape": "hm",
      "gpuType": "A100"
    },
    "kernelspec": {
      "name": "python3",
      "display_name": "Python 3"
    },
    "language_info": {
      "name": "python"
    },
    "accelerator": "GPU"
  },
  "cells": [
    {
      "cell_type": "markdown",
      "source": [
        "Dataset Description :\n",
        "1. 500 corn samples\n",
        "2. 448 Spectral brands\n",
        "3. Vomitoxin_parts per billion\n",
        "\n",
        "Regression Task : Predict vomitoxin concentraion based on spectral data.\n"
      ],
      "metadata": {
        "id": "IQ3nyjxHN-JZ"
      }
    },
    {
      "cell_type": "markdown",
      "source": [
        "Choice of the model -\n",
        "CNNs are a great fit for hyperspectral data because they can capture local spectral patterns (e.g., peaks/dips across adjacent bands) while being computationally efficient and widely successful in similar tasks.\n",
        "\n",
        "We will treat 448 bands as 1D seqquence, leveraging convolutional filters to extract feeatures.\n"
      ],
      "metadata": {
        "id": "asl4vWA1PLYM"
      }
    },
    {
      "cell_type": "code",
      "execution_count": null,
      "metadata": {
        "id": "ti6bAn6HNzoZ"
      },
      "outputs": [],
      "source": [
        "\n",
        "import pandas as pd\n",
        "import numpy as np\n",
        "from sklearn.preprocessing import StandardScaler\n",
        "from sklearn.decomposition import PCA\n",
        "from sklearn.model_selection import train_test_split\n",
        "from sklearn.linear_model import LinearRegression\n",
        "from sklearn.metrics import mean_absolute_error, mean_squared_error, r2_score\n",
        "import matplotlib.pyplot as plt\n",
        "import seaborn as sns\n"
      ]
    },
    {
      "cell_type": "code",
      "source": [
        "#Load Datasets\n",
        "data  = pd.read_csv('/content/TASK-ML-INTERN.csv')\n",
        "\n",
        "#Dataset Statisticss\n",
        "print(\"Dataset Overview:\")\n",
        "print(data.head())\n",
        "print(\"\\nDataset Information:\")\n",
        "print(data.info())\n",
        "print(\"\\nDataset Summary Statistics:\")\n",
        "print(data.describe())"
      ],
      "metadata": {
        "colab": {
          "base_uri": "https://localhost:8080/"
        },
        "id": "rwqQAGP_QbDS",
        "outputId": "aa02db11-85be-4ed0-db4e-7e1ef0ecbf39"
      },
      "execution_count": null,
      "outputs": [
        {
          "output_type": "stream",
          "name": "stdout",
          "text": [
            "Dataset Overview:\n",
            "           hsi_id         0         1         2         3         4         5  \\\n",
            "0  imagoai_corn_0  0.416181  0.396844  0.408985  0.372865  0.385293  0.365390   \n",
            "1  imagoai_corn_1  0.415797  0.402956  0.402564  0.396014  0.397192  0.389634   \n",
            "2  imagoai_corn_2  0.389023  0.371206  0.373098  0.373872  0.361056  0.349709   \n",
            "3  imagoai_corn_3  0.468837  0.473255  0.462949  0.459335  0.461672  0.459824   \n",
            "4  imagoai_corn_4  0.483352  0.487274  0.469153  0.487648  0.464026  0.451152   \n",
            "\n",
            "          6         7         8  ...       439       440       441       442  \\\n",
            "0  0.355226  0.343350  0.344837  ...  0.710280  0.717482  0.715078  0.705379   \n",
            "1  0.375671  0.363689  0.373883  ...  0.684011  0.697271  0.701995  0.696077   \n",
            "2  0.333882  0.330841  0.328925  ...  0.683054  0.669286  0.663179  0.676165   \n",
            "3  0.458194  0.427737  0.415360  ...  0.742782  0.730801  0.736787  0.730044   \n",
            "4  0.458229  0.440782  0.426193  ...  0.770227  0.773013  0.761431  0.763488   \n",
            "\n",
            "        443       444       445       446       447  vomitoxin_ppb  \n",
            "0  0.696691  0.692793  0.711369  0.697679  0.704520         1100.0  \n",
            "1  0.701012  0.677418  0.696921  0.696544  0.689054         1000.0  \n",
            "2  0.676591  0.655951  0.658945  0.670989  0.665176         1300.0  \n",
            "3  0.751437  0.738497  0.742446  0.754657  0.733474         1300.0  \n",
            "4  0.762473  0.744012  0.775486  0.760431  0.751988          220.0  \n",
            "\n",
            "[5 rows x 450 columns]\n",
            "\n",
            "Dataset Information:\n",
            "<class 'pandas.core.frame.DataFrame'>\n",
            "RangeIndex: 500 entries, 0 to 499\n",
            "Columns: 450 entries, hsi_id to vomitoxin_ppb\n",
            "dtypes: float64(449), object(1)\n",
            "memory usage: 1.7+ MB\n",
            "None\n",
            "\n",
            "Dataset Summary Statistics:\n",
            "                0           1           2           3           4           5  \\\n",
            "count  500.000000  500.000000  500.000000  500.000000  500.000000  500.000000   \n",
            "mean     0.443118    0.440761    0.433814    0.426122    0.418990    0.412432   \n",
            "std      0.044719    0.045520    0.045764    0.046070    0.045405    0.044727   \n",
            "min      0.311182    0.295321    0.284064    0.282054    0.296702    0.286860   \n",
            "25%      0.410456    0.404310    0.397038    0.389029    0.382102    0.377157   \n",
            "50%      0.449105    0.442651    0.434215    0.425074    0.417075    0.411872   \n",
            "75%      0.480245    0.478822    0.473158    0.464947    0.459232    0.452198   \n",
            "max      0.556287    0.530168    0.528774    0.533202    0.511909    0.501786   \n",
            "\n",
            "                6           7           8           9  ...         439  \\\n",
            "count  500.000000  500.000000  500.000000  500.000000  ...  500.000000   \n",
            "mean     0.405868    0.399815    0.394038    0.389664  ...    0.741255   \n",
            "std      0.044528    0.043773    0.043659    0.043442  ...    0.053479   \n",
            "min      0.262876    0.278523    0.255529    0.261459  ...    0.562662   \n",
            "25%      0.369620    0.364823    0.360634    0.355246  ...    0.702105   \n",
            "50%      0.405443    0.397917    0.393803    0.387211  ...    0.743857   \n",
            "75%      0.444384    0.438728    0.431165    0.427039  ...    0.777884   \n",
            "max      0.504054    0.490692    0.489272    0.472080  ...    0.940642   \n",
            "\n",
            "              440         441         442         443         444         445  \\\n",
            "count  500.000000  500.000000  500.000000  500.000000  500.000000  500.000000   \n",
            "mean     0.740818    0.740459    0.739758    0.739850    0.738738    0.738298   \n",
            "std      0.053695    0.053812    0.053666    0.053487    0.053601    0.054014   \n",
            "min      0.585011    0.558412    0.571735    0.575259    0.571767    0.577803   \n",
            "25%      0.703701    0.702988    0.700889    0.701690    0.700638    0.698655   \n",
            "50%      0.745922    0.745062    0.743991    0.744004    0.743965    0.743301   \n",
            "75%      0.776210    0.777069    0.774759    0.775698    0.775686    0.775621   \n",
            "max      0.940361    0.939153    0.930366    0.942615    0.945225    0.932812   \n",
            "\n",
            "              446         447  vomitoxin_ppb  \n",
            "count  500.000000  500.000000     500.000000  \n",
            "mean     0.737599    0.738099    3410.006000  \n",
            "std      0.054136    0.054297   13095.803483  \n",
            "min      0.576985    0.562302       0.000000  \n",
            "25%      0.698107    0.699673     137.500000  \n",
            "50%      0.745216    0.745733     500.000000  \n",
            "75%      0.774635    0.774310    1700.000000  \n",
            "max      0.931381    0.957860  131000.000000  \n",
            "\n",
            "[8 rows x 449 columns]\n"
          ]
        }
      ]
    },
    {
      "cell_type": "code",
      "source": [
        "#Check for missng values\n",
        "print(\"\\n Missing Values Summary:\")\n",
        "print(data.isnull().sum())"
      ],
      "metadata": {
        "colab": {
          "base_uri": "https://localhost:8080/"
        },
        "id": "iNSd-cm3QpqN",
        "outputId": "3dfd443d-814a-42ed-a53d-94643147a9e1"
      },
      "execution_count": null,
      "outputs": [
        {
          "output_type": "stream",
          "name": "stdout",
          "text": [
            "\n",
            " Missing Values Summary:\n",
            "hsi_id           0\n",
            "0                0\n",
            "1                0\n",
            "2                0\n",
            "3                0\n",
            "                ..\n",
            "444              0\n",
            "445              0\n",
            "446              0\n",
            "447              0\n",
            "vomitoxin_ppb    0\n",
            "Length: 450, dtype: int64\n"
          ]
        }
      ]
    },
    {
      "cell_type": "code",
      "source": [
        "#Handle Missing Values\n",
        "data = data.dropna()"
      ],
      "metadata": {
        "id": "Zk3QKhGyQs54"
      },
      "execution_count": null,
      "outputs": []
    },
    {
      "cell_type": "code",
      "source": [
        "#Statistical Summary\n",
        "print(\"\\n Statistical Summary:\")\n",
        "print(data.describe())"
      ],
      "metadata": {
        "colab": {
          "base_uri": "https://localhost:8080/"
        },
        "id": "u0eqh41nQuiV",
        "outputId": "aad5aae3-8420-46a3-dee5-0b344c0e2537"
      },
      "execution_count": null,
      "outputs": [
        {
          "output_type": "stream",
          "name": "stdout",
          "text": [
            "\n",
            " Statistical Summary:\n",
            "                0           1           2           3           4           5  \\\n",
            "count  500.000000  500.000000  500.000000  500.000000  500.000000  500.000000   \n",
            "mean     0.443118    0.440761    0.433814    0.426122    0.418990    0.412432   \n",
            "std      0.044719    0.045520    0.045764    0.046070    0.045405    0.044727   \n",
            "min      0.311182    0.295321    0.284064    0.282054    0.296702    0.286860   \n",
            "25%      0.410456    0.404310    0.397038    0.389029    0.382102    0.377157   \n",
            "50%      0.449105    0.442651    0.434215    0.425074    0.417075    0.411872   \n",
            "75%      0.480245    0.478822    0.473158    0.464947    0.459232    0.452198   \n",
            "max      0.556287    0.530168    0.528774    0.533202    0.511909    0.501786   \n",
            "\n",
            "                6           7           8           9  ...         439  \\\n",
            "count  500.000000  500.000000  500.000000  500.000000  ...  500.000000   \n",
            "mean     0.405868    0.399815    0.394038    0.389664  ...    0.741255   \n",
            "std      0.044528    0.043773    0.043659    0.043442  ...    0.053479   \n",
            "min      0.262876    0.278523    0.255529    0.261459  ...    0.562662   \n",
            "25%      0.369620    0.364823    0.360634    0.355246  ...    0.702105   \n",
            "50%      0.405443    0.397917    0.393803    0.387211  ...    0.743857   \n",
            "75%      0.444384    0.438728    0.431165    0.427039  ...    0.777884   \n",
            "max      0.504054    0.490692    0.489272    0.472080  ...    0.940642   \n",
            "\n",
            "              440         441         442         443         444         445  \\\n",
            "count  500.000000  500.000000  500.000000  500.000000  500.000000  500.000000   \n",
            "mean     0.740818    0.740459    0.739758    0.739850    0.738738    0.738298   \n",
            "std      0.053695    0.053812    0.053666    0.053487    0.053601    0.054014   \n",
            "min      0.585011    0.558412    0.571735    0.575259    0.571767    0.577803   \n",
            "25%      0.703701    0.702988    0.700889    0.701690    0.700638    0.698655   \n",
            "50%      0.745922    0.745062    0.743991    0.744004    0.743965    0.743301   \n",
            "75%      0.776210    0.777069    0.774759    0.775698    0.775686    0.775621   \n",
            "max      0.940361    0.939153    0.930366    0.942615    0.945225    0.932812   \n",
            "\n",
            "              446         447  vomitoxin_ppb  \n",
            "count  500.000000  500.000000     500.000000  \n",
            "mean     0.737599    0.738099    3410.006000  \n",
            "std      0.054136    0.054297   13095.803483  \n",
            "min      0.576985    0.562302       0.000000  \n",
            "25%      0.698107    0.699673     137.500000  \n",
            "50%      0.745216    0.745733     500.000000  \n",
            "75%      0.774635    0.774310    1700.000000  \n",
            "max      0.931381    0.957860  131000.000000  \n",
            "\n",
            "[8 rows x 449 columns]\n"
          ]
        }
      ]
    },
    {
      "cell_type": "code",
      "source": [
        "import pandas as pd\n",
        "from sklearn.model_selection import train_test_split\n",
        "# Load the data\n",
        "data = pd.read_csv('/content/TASK-ML-INTERN.csv')\n",
        "\n",
        "\n",
        "# Extracting features and target\n",
        "X = data.drop(['hsi_id', 'vomitoxin_ppb'], axis=1).values\n",
        "y = data['vomitoxin_ppb'].values\n"
      ],
      "metadata": {
        "id": "BriyjW7WQ18F"
      },
      "execution_count": 48,
      "outputs": []
    },
    {
      "cell_type": "code",
      "source": [
        "# Preparing data for CNN model\n",
        "\n",
        "from sklearn.model_selection import train_test_split\n",
        "from sklearn.preprocessing import StandardScaler\n",
        "import numpy as np\n",
        "import tensorflow as tf\n",
        "from tensorflow.keras.models import Sequential\n",
        "from tensorflow.keras.layers import Conv1D, MaxPooling1D, Flatten, Dense, Dropout\n",
        "\n",
        "# Extracting features and target\n",
        "X = data.drop(['hsi_id', 'vomitoxin_ppb'], axis=1).values\n",
        "y = data['vomitoxin_ppb'].values\n",
        "\n",
        "# Train-test split\n",
        "X_train, X_test, y_train, y_test = train_test_split(X, y, test_size=0.2, random_state=42)\n",
        "\n",
        "# Standardizing features\n",
        "scaler = StandardScaler()\n",
        "X_train_scaled = scaler.fit_transform(X_train)\n",
        "X_test_scaled = scaler.transform(X_test)\n",
        "\n",
        "# Reshaping data for CNN (samples, timesteps, channels)\n",
        "X_train_scaled = np.expand_dims(X_train_scaled, axis=2)\n",
        "X_test_scaled = np.expand_dims(X_test_scaled, axis=2)\n",
        "\n",
        "# Defining a simple 1D CNN model\n",
        "model = Sequential([\n",
        "    Conv1D(32, kernel_size=3, activation='relu', input_shape=(X_train_scaled.shape[1], 1)),\n",
        "    MaxPooling1D(pool_size=2),\n",
        "    Conv1D(64, kernel_size=3, activation='relu'),\n",
        "    MaxPooling1D(pool_size=2),\n",
        "    Flatten(),\n",
        "    Dense(64, activation='relu'),\n",
        "    Dropout(0.3),\n",
        "    Dense(1, activation='linear')  # Regression output\n",
        "])\n",
        "\n",
        "# Compiling the model\n",
        "model.compile(optimizer='adam', loss='mean_squared_error', metrics=['mae'])\n",
        "\n",
        "# Training the model\n",
        "history = model.fit(X_train_scaled, y_train, epochs=50, batch_size=32, validation_split=0.2, verbose=1)\n",
        "\n",
        "# Evaluate model performance\n",
        "test_loss, test_mae = model.evaluate(X_test_scaled, y_test, verbose=1)\n",
        "\n",
        "test_loss, test_mae\n"
      ],
      "metadata": {
        "colab": {
          "base_uri": "https://localhost:8080/"
        },
        "id": "5n1vh7C7i0zz",
        "outputId": "6f3b521e-6126-4e09-d100-54a4090557fc"
      },
      "execution_count": 47,
      "outputs": [
        {
          "output_type": "stream",
          "name": "stdout",
          "text": [
            "Epoch 1/50\n"
          ]
        },
        {
          "output_type": "stream",
          "name": "stderr",
          "text": [
            "/usr/local/lib/python3.11/dist-packages/keras/src/layers/convolutional/base_conv.py:107: UserWarning: Do not pass an `input_shape`/`input_dim` argument to a layer. When using Sequential models, prefer using an `Input(shape)` object as the first layer in the model instead.\n",
            "  super().__init__(activity_regularizer=activity_regularizer, **kwargs)\n"
          ]
        },
        {
          "output_type": "stream",
          "name": "stdout",
          "text": [
            "\u001b[1m10/10\u001b[0m \u001b[32m━━━━━━━━━━━━━━━━━━━━\u001b[0m\u001b[37m\u001b[0m \u001b[1m3s\u001b[0m 68ms/step - loss: 194581504.0000 - mae: 3192.1292 - val_loss: 203000176.0000 - val_mae: 4070.4819\n",
            "Epoch 2/50\n",
            "\u001b[1m10/10\u001b[0m \u001b[32m━━━━━━━━━━━━━━━━━━━━\u001b[0m\u001b[37m\u001b[0m \u001b[1m0s\u001b[0m 10ms/step - loss: 99997256.0000 - mae: 2460.6057 - val_loss: 202286272.0000 - val_mae: 4019.9019\n",
            "Epoch 3/50\n",
            "\u001b[1m10/10\u001b[0m \u001b[32m━━━━━━━━━━━━━━━━━━━━\u001b[0m\u001b[37m\u001b[0m \u001b[1m0s\u001b[0m 9ms/step - loss: 146282816.0000 - mae: 3356.6106 - val_loss: 200639984.0000 - val_mae: 3961.8052\n",
            "Epoch 4/50\n",
            "\u001b[1m10/10\u001b[0m \u001b[32m━━━━━━━━━━━━━━━━━━━━\u001b[0m\u001b[37m\u001b[0m \u001b[1m0s\u001b[0m 10ms/step - loss: 217433872.0000 - mae: 3754.9597 - val_loss: 197895632.0000 - val_mae: 3956.3821\n",
            "Epoch 5/50\n",
            "\u001b[1m10/10\u001b[0m \u001b[32m━━━━━━━━━━━━━━━━━━━━\u001b[0m\u001b[37m\u001b[0m \u001b[1m0s\u001b[0m 9ms/step - loss: 80998992.0000 - mae: 2444.8240 - val_loss: 195185072.0000 - val_mae: 4048.2214\n",
            "Epoch 6/50\n",
            "\u001b[1m10/10\u001b[0m \u001b[32m━━━━━━━━━━━━━━━━━━━━\u001b[0m\u001b[37m\u001b[0m \u001b[1m0s\u001b[0m 9ms/step - loss: 172268128.0000 - mae: 3573.1614 - val_loss: 192774800.0000 - val_mae: 4180.8345\n",
            "Epoch 7/50\n",
            "\u001b[1m10/10\u001b[0m \u001b[32m━━━━━━━━━━━━━━━━━━━━\u001b[0m\u001b[37m\u001b[0m \u001b[1m0s\u001b[0m 10ms/step - loss: 175416576.0000 - mae: 3836.3264 - val_loss: 190783136.0000 - val_mae: 4245.1436\n",
            "Epoch 8/50\n",
            "\u001b[1m10/10\u001b[0m \u001b[32m━━━━━━━━━━━━━━━━━━━━\u001b[0m\u001b[37m\u001b[0m \u001b[1m0s\u001b[0m 10ms/step - loss: 124025656.0000 - mae: 3511.3855 - val_loss: 189514576.0000 - val_mae: 4280.0269\n",
            "Epoch 9/50\n",
            "\u001b[1m10/10\u001b[0m \u001b[32m━━━━━━━━━━━━━━━━━━━━\u001b[0m\u001b[37m\u001b[0m \u001b[1m0s\u001b[0m 10ms/step - loss: 57807760.0000 - mae: 2962.7773 - val_loss: 189355552.0000 - val_mae: 4232.4619\n",
            "Epoch 10/50\n",
            "\u001b[1m10/10\u001b[0m \u001b[32m━━━━━━━━━━━━━━━━━━━━\u001b[0m\u001b[37m\u001b[0m \u001b[1m0s\u001b[0m 9ms/step - loss: 134814000.0000 - mae: 3817.4885 - val_loss: 187976832.0000 - val_mae: 4352.6309\n",
            "Epoch 11/50\n",
            "\u001b[1m10/10\u001b[0m \u001b[32m━━━━━━━━━━━━━━━━━━━━\u001b[0m\u001b[37m\u001b[0m \u001b[1m0s\u001b[0m 9ms/step - loss: 136801040.0000 - mae: 3607.9006 - val_loss: 187108704.0000 - val_mae: 4419.9756\n",
            "Epoch 12/50\n",
            "\u001b[1m10/10\u001b[0m \u001b[32m━━━━━━━━━━━━━━━━━━━━\u001b[0m\u001b[37m\u001b[0m \u001b[1m0s\u001b[0m 9ms/step - loss: 62388660.0000 - mae: 3270.5027 - val_loss: 186675552.0000 - val_mae: 4406.8813\n",
            "Epoch 13/50\n",
            "\u001b[1m10/10\u001b[0m \u001b[32m━━━━━━━━━━━━━━━━━━━━\u001b[0m\u001b[37m\u001b[0m \u001b[1m0s\u001b[0m 10ms/step - loss: 128196240.0000 - mae: 4159.0405 - val_loss: 185806160.0000 - val_mae: 4460.2524\n",
            "Epoch 14/50\n",
            "\u001b[1m10/10\u001b[0m \u001b[32m━━━━━━━━━━━━━━━━━━━━\u001b[0m\u001b[37m\u001b[0m \u001b[1m0s\u001b[0m 9ms/step - loss: 86551896.0000 - mae: 3501.1489 - val_loss: 185504304.0000 - val_mae: 4412.2329\n",
            "Epoch 15/50\n",
            "\u001b[1m10/10\u001b[0m \u001b[32m━━━━━━━━━━━━━━━━━━━━\u001b[0m\u001b[37m\u001b[0m \u001b[1m0s\u001b[0m 9ms/step - loss: 80897312.0000 - mae: 3431.5273 - val_loss: 185265760.0000 - val_mae: 4357.0850\n",
            "Epoch 16/50\n",
            "\u001b[1m10/10\u001b[0m \u001b[32m━━━━━━━━━━━━━━━━━━━━\u001b[0m\u001b[37m\u001b[0m \u001b[1m0s\u001b[0m 10ms/step - loss: 124336456.0000 - mae: 3661.1750 - val_loss: 184691808.0000 - val_mae: 4346.6548\n",
            "Epoch 17/50\n",
            "\u001b[1m10/10\u001b[0m \u001b[32m━━━━━━━━━━━━━━━━━━━━\u001b[0m\u001b[37m\u001b[0m \u001b[1m0s\u001b[0m 9ms/step - loss: 100787112.0000 - mae: 3433.0190 - val_loss: 183987040.0000 - val_mae: 4358.4121\n",
            "Epoch 18/50\n",
            "\u001b[1m10/10\u001b[0m \u001b[32m━━━━━━━━━━━━━━━━━━━━\u001b[0m\u001b[37m\u001b[0m \u001b[1m0s\u001b[0m 9ms/step - loss: 102254576.0000 - mae: 3711.1328 - val_loss: 183089472.0000 - val_mae: 4387.2178\n",
            "Epoch 19/50\n",
            "\u001b[1m10/10\u001b[0m \u001b[32m━━━━━━━━━━━━━━━━━━━━\u001b[0m\u001b[37m\u001b[0m \u001b[1m0s\u001b[0m 10ms/step - loss: 185892992.0000 - mae: 4363.6963 - val_loss: 182139712.0000 - val_mae: 4393.7881\n",
            "Epoch 20/50\n",
            "\u001b[1m10/10\u001b[0m \u001b[32m━━━━━━━━━━━━━━━━━━━━\u001b[0m\u001b[37m\u001b[0m \u001b[1m0s\u001b[0m 9ms/step - loss: 115550992.0000 - mae: 3691.9221 - val_loss: 181247008.0000 - val_mae: 4390.6650\n",
            "Epoch 21/50\n",
            "\u001b[1m10/10\u001b[0m \u001b[32m━━━━━━━━━━━━━━━━━━━━\u001b[0m\u001b[37m\u001b[0m \u001b[1m0s\u001b[0m 9ms/step - loss: 156684960.0000 - mae: 4317.2710 - val_loss: 180544480.0000 - val_mae: 4323.6655\n",
            "Epoch 22/50\n",
            "\u001b[1m10/10\u001b[0m \u001b[32m━━━━━━━━━━━━━━━━━━━━\u001b[0m\u001b[37m\u001b[0m \u001b[1m0s\u001b[0m 10ms/step - loss: 66412224.0000 - mae: 3267.0515 - val_loss: 179989216.0000 - val_mae: 4240.8174\n",
            "Epoch 23/50\n",
            "\u001b[1m10/10\u001b[0m \u001b[32m━━━━━━━━━━━━━━━━━━━━\u001b[0m\u001b[37m\u001b[0m \u001b[1m0s\u001b[0m 10ms/step - loss: 106328048.0000 - mae: 3495.8564 - val_loss: 178463520.0000 - val_mae: 4277.8149\n",
            "Epoch 24/50\n",
            "\u001b[1m10/10\u001b[0m \u001b[32m━━━━━━━━━━━━━━━━━━━━\u001b[0m\u001b[37m\u001b[0m \u001b[1m0s\u001b[0m 9ms/step - loss: 163724080.0000 - mae: 4097.4834 - val_loss: 176834592.0000 - val_mae: 4312.6089\n",
            "Epoch 25/50\n",
            "\u001b[1m10/10\u001b[0m \u001b[32m━━━━━━━━━━━━━━━━━━━━\u001b[0m\u001b[37m\u001b[0m \u001b[1m0s\u001b[0m 9ms/step - loss: 47482580.0000 - mae: 3108.4839 - val_loss: 176672992.0000 - val_mae: 4135.2729\n",
            "Epoch 26/50\n",
            "\u001b[1m10/10\u001b[0m \u001b[32m━━━━━━━━━━━━━━━━━━━━\u001b[0m\u001b[37m\u001b[0m \u001b[1m0s\u001b[0m 9ms/step - loss: 202863616.0000 - mae: 4498.9585 - val_loss: 174041120.0000 - val_mae: 4220.9497\n",
            "Epoch 27/50\n",
            "\u001b[1m10/10\u001b[0m \u001b[32m━━━━━━━━━━━━━━━━━━━━\u001b[0m\u001b[37m\u001b[0m \u001b[1m0s\u001b[0m 9ms/step - loss: 99266440.0000 - mae: 3523.8162 - val_loss: 172543520.0000 - val_mae: 4187.5806\n",
            "Epoch 28/50\n",
            "\u001b[1m10/10\u001b[0m \u001b[32m━━━━━━━━━━━━━━━━━━━━\u001b[0m\u001b[37m\u001b[0m \u001b[1m0s\u001b[0m 10ms/step - loss: 209806880.0000 - mae: 4541.5498 - val_loss: 170053856.0000 - val_mae: 4188.5737\n",
            "Epoch 29/50\n",
            "\u001b[1m10/10\u001b[0m \u001b[32m━━━━━━━━━━━━━━━━━━━━\u001b[0m\u001b[37m\u001b[0m \u001b[1m0s\u001b[0m 9ms/step - loss: 148717152.0000 - mae: 3889.7344 - val_loss: 167963376.0000 - val_mae: 4156.3921\n",
            "Epoch 30/50\n",
            "\u001b[1m10/10\u001b[0m \u001b[32m━━━━━━━━━━━━━━━━━━━━\u001b[0m\u001b[37m\u001b[0m \u001b[1m0s\u001b[0m 10ms/step - loss: 122621024.0000 - mae: 3644.2588 - val_loss: 165618464.0000 - val_mae: 4085.2520\n",
            "Epoch 31/50\n",
            "\u001b[1m10/10\u001b[0m \u001b[32m━━━━━━━━━━━━━━━━━━━━\u001b[0m\u001b[37m\u001b[0m \u001b[1m0s\u001b[0m 10ms/step - loss: 46899068.0000 - mae: 2752.9946 - val_loss: 163788624.0000 - val_mae: 4001.4832\n",
            "Epoch 32/50\n",
            "\u001b[1m10/10\u001b[0m \u001b[32m━━━━━━━━━━━━━━━━━━━━\u001b[0m\u001b[37m\u001b[0m \u001b[1m0s\u001b[0m 10ms/step - loss: 172286096.0000 - mae: 3859.9485 - val_loss: 159333328.0000 - val_mae: 4105.7803\n",
            "Epoch 33/50\n",
            "\u001b[1m10/10\u001b[0m \u001b[32m━━━━━━━━━━━━━━━━━━━━\u001b[0m\u001b[37m\u001b[0m \u001b[1m0s\u001b[0m 9ms/step - loss: 190268448.0000 - mae: 4321.9194 - val_loss: 155561184.0000 - val_mae: 4071.2976\n",
            "Epoch 34/50\n",
            "\u001b[1m10/10\u001b[0m \u001b[32m━━━━━━━━━━━━━━━━━━━━\u001b[0m\u001b[37m\u001b[0m \u001b[1m0s\u001b[0m 10ms/step - loss: 90899240.0000 - mae: 3213.6106 - val_loss: 152571872.0000 - val_mae: 3939.5957\n",
            "Epoch 35/50\n",
            "\u001b[1m10/10\u001b[0m \u001b[32m━━━━━━━━━━━━━━━━━━━━\u001b[0m\u001b[37m\u001b[0m \u001b[1m0s\u001b[0m 9ms/step - loss: 86258664.0000 - mae: 3018.9724 - val_loss: 148418272.0000 - val_mae: 3918.7727\n",
            "Epoch 36/50\n",
            "\u001b[1m10/10\u001b[0m \u001b[32m━━━━━━━━━━━━━━━━━━━━\u001b[0m\u001b[37m\u001b[0m \u001b[1m0s\u001b[0m 9ms/step - loss: 59046440.0000 - mae: 2832.0149 - val_loss: 144701808.0000 - val_mae: 3835.8789\n",
            "Epoch 37/50\n",
            "\u001b[1m10/10\u001b[0m \u001b[32m━━━━━━━━━━━━━━━━━━━━\u001b[0m\u001b[37m\u001b[0m \u001b[1m0s\u001b[0m 10ms/step - loss: 137922464.0000 - mae: 3904.9436 - val_loss: 138777456.0000 - val_mae: 3985.1030\n",
            "Epoch 38/50\n",
            "\u001b[1m10/10\u001b[0m \u001b[32m━━━━━━━━━━━━━━━━━━━━\u001b[0m\u001b[37m\u001b[0m \u001b[1m0s\u001b[0m 9ms/step - loss: 103696144.0000 - mae: 3243.2197 - val_loss: 134702224.0000 - val_mae: 3856.9683\n",
            "Epoch 39/50\n",
            "\u001b[1m10/10\u001b[0m \u001b[32m━━━━━━━━━━━━━━━━━━━━\u001b[0m\u001b[37m\u001b[0m \u001b[1m0s\u001b[0m 10ms/step - loss: 179046816.0000 - mae: 3995.6321 - val_loss: 129455360.0000 - val_mae: 3876.9468\n",
            "Epoch 40/50\n",
            "\u001b[1m10/10\u001b[0m \u001b[32m━━━━━━━━━━━━━━━━━━━━\u001b[0m\u001b[37m\u001b[0m \u001b[1m0s\u001b[0m 9ms/step - loss: 80121896.0000 - mae: 3193.1218 - val_loss: 124697000.0000 - val_mae: 3739.3406\n",
            "Epoch 41/50\n",
            "\u001b[1m10/10\u001b[0m \u001b[32m━━━━━━━━━━━━━━━━━━━━\u001b[0m\u001b[37m\u001b[0m \u001b[1m0s\u001b[0m 10ms/step - loss: 116114856.0000 - mae: 3454.1638 - val_loss: 118800448.0000 - val_mae: 3737.7202\n",
            "Epoch 42/50\n",
            "\u001b[1m10/10\u001b[0m \u001b[32m━━━━━━━━━━━━━━━━━━━━\u001b[0m\u001b[37m\u001b[0m \u001b[1m0s\u001b[0m 10ms/step - loss: 48198924.0000 - mae: 2746.9817 - val_loss: 115235112.0000 - val_mae: 3464.7695\n",
            "Epoch 43/50\n",
            "\u001b[1m10/10\u001b[0m \u001b[32m━━━━━━━━━━━━━━━━━━━━\u001b[0m\u001b[37m\u001b[0m \u001b[1m0s\u001b[0m 10ms/step - loss: 140450944.0000 - mae: 3519.1931 - val_loss: 109364480.0000 - val_mae: 3658.2085\n",
            "Epoch 44/50\n",
            "\u001b[1m10/10\u001b[0m \u001b[32m━━━━━━━━━━━━━━━━━━━━\u001b[0m\u001b[37m\u001b[0m \u001b[1m0s\u001b[0m 9ms/step - loss: 83108272.0000 - mae: 3263.5034 - val_loss: 105816232.0000 - val_mae: 3369.4836\n",
            "Epoch 45/50\n",
            "\u001b[1m10/10\u001b[0m \u001b[32m━━━━━━━━━━━━━━━━━━━━\u001b[0m\u001b[37m\u001b[0m \u001b[1m0s\u001b[0m 9ms/step - loss: 45505040.0000 - mae: 2409.8909 - val_loss: 103062808.0000 - val_mae: 3292.4590\n",
            "Epoch 46/50\n",
            "\u001b[1m10/10\u001b[0m \u001b[32m━━━━━━━━━━━━━━━━━━━━\u001b[0m\u001b[37m\u001b[0m \u001b[1m0s\u001b[0m 10ms/step - loss: 117950832.0000 - mae: 3343.0562 - val_loss: 97455408.0000 - val_mae: 3474.2004\n",
            "Epoch 47/50\n",
            "\u001b[1m10/10\u001b[0m \u001b[32m━━━━━━━━━━━━━━━━━━━━\u001b[0m\u001b[37m\u001b[0m \u001b[1m0s\u001b[0m 9ms/step - loss: 52414452.0000 - mae: 2614.9780 - val_loss: 94083128.0000 - val_mae: 3375.3398\n",
            "Epoch 48/50\n",
            "\u001b[1m10/10\u001b[0m \u001b[32m━━━━━━━━━━━━━━━━━━━━\u001b[0m\u001b[37m\u001b[0m \u001b[1m0s\u001b[0m 10ms/step - loss: 110767592.0000 - mae: 3462.9363 - val_loss: 89946112.0000 - val_mae: 3338.0625\n",
            "Epoch 49/50\n",
            "\u001b[1m10/10\u001b[0m \u001b[32m━━━━━━━━━━━━━━━━━━━━\u001b[0m\u001b[37m\u001b[0m \u001b[1m0s\u001b[0m 10ms/step - loss: 102438584.0000 - mae: 3095.9541 - val_loss: 87754608.0000 - val_mae: 3253.1360\n",
            "Epoch 50/50\n",
            "\u001b[1m10/10\u001b[0m \u001b[32m━━━━━━━━━━━━━━━━━━━━\u001b[0m\u001b[37m\u001b[0m \u001b[1m0s\u001b[0m 10ms/step - loss: 79654888.0000 - mae: 3019.6812 - val_loss: 84722064.0000 - val_mae: 3151.2229\n",
            "\u001b[1m4/4\u001b[0m \u001b[32m━━━━━━━━━━━━━━━━━━━━\u001b[0m\u001b[37m\u001b[0m \u001b[1m0s\u001b[0m 78ms/step - loss: 96816376.0000 - mae: 3046.2229\n"
          ]
        },
        {
          "output_type": "execute_result",
          "data": {
            "text/plain": [
              "(125028856.0, 3515.978759765625)"
            ]
          },
          "metadata": {},
          "execution_count": 47
        }
      ]
    },
    {
      "cell_type": "code",
      "source": [
        "# Predict on the test set\n",
        "y_pred = model.predict(X_test_scaled.squeeze())\n",
        "\n",
        "# Evaluate regression metrics\n",
        "mae = mean_absolute_error(y_test, y_pred)\n",
        "rmse = np.sqrt(mean_squared_error(y_test, y_pred))\n",
        "r2 = r2_score(y_test, y_pred)\n",
        "\n",
        "mae, rmse, r2"
      ],
      "metadata": {
        "colab": {
          "base_uri": "https://localhost:8080/"
        },
        "id": "R7owBsYmjO_M",
        "outputId": "22a8a063-ff66-4f52-871a-c8668c98a407"
      },
      "execution_count": 50,
      "outputs": [
        {
          "output_type": "stream",
          "name": "stdout",
          "text": [
            "\u001b[1m4/4\u001b[0m \u001b[32m━━━━━━━━━━━━━━━━━━━━\u001b[0m\u001b[37m\u001b[0m \u001b[1m0s\u001b[0m 7ms/step \n"
          ]
        },
        {
          "output_type": "execute_result",
          "data": {
            "text/plain": [
              "(3515.978574590981, 11181.629945259443, 0.5527225848455288)"
            ]
          },
          "metadata": {},
          "execution_count": 50
        }
      ]
    },
    {
      "cell_type": "code",
      "source": [
        "import matplotlib.pyplot as plt\n",
        "\n",
        "plt.figure(figsize=(8, 6))\n",
        "plt.scatter(y_test, y_pred, alpha=0.7)\n",
        "plt.xlabel(\"Actual Vomitoxin (ppb)\")\n",
        "plt.ylabel(\"Predicted Vomitoxin (ppb)\")\n",
        "plt.title(\"Scatter Plot of Actual vs. Predicted Values\")\n",
        "plt.plot([y_test.min(), y_test.max()], [y_test.min(), y_test.max()], 'r--', linewidth=2)\n",
        "plt.grid(True)\n",
        "plt.show()\n"
      ],
      "metadata": {
        "colab": {
          "base_uri": "https://localhost:8080/",
          "height": 494
        },
        "id": "6HI3aUNHl3gZ",
        "outputId": "d66218a9-61d8-453a-c685-797e8c8cc4c1"
      },
      "execution_count": 55,
      "outputs": [
        {
          "output_type": "display_data",
          "data": {
            "text/plain": [
              "<Figure size 800x600 with 1 Axes>"
            ],
            "image/png": "[encoded data removed]"
          },
          "metadata": {}
        }
      ]
    },
    {
      "cell_type": "markdown",
      "source": [
        "R^2 score of approximate 0.55 indicates moderate predictive performance suggesting room for imporvement by doing hyperparemeter optimizationn using random search techniques\n"
      ],
      "metadata": {
        "id": "wGauADy4jjxv"
      }
    }
  ]
}