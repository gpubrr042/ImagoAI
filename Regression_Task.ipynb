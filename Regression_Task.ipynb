{
  "nbformat": 4,
  "nbformat_minor": 0,
  "metadata": {
    "colab": {
      "provenance": [],
      "machine_shape": "hm",
      "gpuType": "A100"
    },
    "kernelspec": {
      "name": "python3",
      "display_name": "Python 3"
    },
    "language_info": {
      "name": "python"
    },
    "accelerator": "GPU"
  },
  "cells": [
    {
      "cell_type": "markdown",
      "source": [
        "Dataset Description :\n",
        "1. 500 corn samples\n",
        "2. 448 Spectral brands\n",
        "3. Vomitoxin_parts per billion\n",
        "\n",
        "Regression Task : Predict vomitoxin concentraion based on spectral data.\n",
        "\n",
        "Log transform to deal with rightly skewed data distribution of target variable\n"
      ],
      "metadata": {
        "id": "IQ3nyjxHN-JZ"
      }
    },
    {
      "cell_type": "markdown",
      "source": [
        "Choice of the model -\n",
        "CNNs are a great fit for hyperspectral data because they can capture local spectral patterns (e.g., peaks/dips across adjacent bands) while being computationally efficient and widely successful in similar tasks.\n",
        "\n",
        "We will treat 448 bands as 1D seqquence, leveraging convolutional filters to extract feeatures.\n"
      ],
      "metadata": {
        "id": "asl4vWA1PLYM"
      }
    },
    {
      "cell_type": "code",
      "execution_count": 3,
      "metadata": {
        "id": "ti6bAn6HNzoZ"
      },
      "outputs": [],
      "source": [
        "\n",
        "import pandas as pd\n",
        "import numpy as np\n",
        "from sklearn.preprocessing import StandardScaler\n",
        "from sklearn.decomposition import PCA\n",
        "from sklearn.model_selection import train_test_split\n",
        "from sklearn.linear_model import LinearRegression\n",
        "from sklearn.metrics import mean_absolute_error, mean_squared_error, r2_score\n",
        "import matplotlib.pyplot as plt\n",
        "import seaborn as sns\n"
      ]
    },
    {
      "cell_type": "code",
      "source": [
        "#Load Datasets\n",
        "data  = pd.read_csv('/content/TASK-ML-INTERN.csv')\n",
        "\n",
        "#Dataset Statisticss\n",
        "print(\"Dataset Overview:\")\n",
        "print(data.head())\n",
        "print(\"\\nDataset Information:\")\n",
        "print(data.info())\n",
        "print(\"\\nDataset Summary Statistics:\")\n",
        "print(data.describe())"
      ],
      "metadata": {
        "colab": {
          "base_uri": "https://localhost:8080/"
        },
        "id": "rwqQAGP_QbDS",
        "outputId": "15b08934-91cd-4c49-e8da-f141a51d7624"
      },
      "execution_count": 4,
      "outputs": [
        {
          "output_type": "stream",
          "name": "stdout",
          "text": [
            "Dataset Overview:\n",
            "           hsi_id         0         1         2         3         4         5  \\\n",
            "0  imagoai_corn_0  0.416181  0.396844  0.408985  0.372865  0.385293  0.365390   \n",
            "1  imagoai_corn_1  0.415797  0.402956  0.402564  0.396014  0.397192  0.389634   \n",
            "2  imagoai_corn_2  0.389023  0.371206  0.373098  0.373872  0.361056  0.349709   \n",
            "3  imagoai_corn_3  0.468837  0.473255  0.462949  0.459335  0.461672  0.459824   \n",
            "4  imagoai_corn_4  0.483352  0.487274  0.469153  0.487648  0.464026  0.451152   \n",
            "\n",
            "          6         7         8  ...       439       440       441       442  \\\n",
            "0  0.355226  0.343350  0.344837  ...  0.710280  0.717482  0.715078  0.705379   \n",
            "1  0.375671  0.363689  0.373883  ...  0.684011  0.697271  0.701995  0.696077   \n",
            "2  0.333882  0.330841  0.328925  ...  0.683054  0.669286  0.663179  0.676165   \n",
            "3  0.458194  0.427737  0.415360  ...  0.742782  0.730801  0.736787  0.730044   \n",
            "4  0.458229  0.440782  0.426193  ...  0.770227  0.773013  0.761431  0.763488   \n",
            "\n",
            "        443       444       445       446       447  vomitoxin_ppb  \n",
            "0  0.696691  0.692793  0.711369  0.697679  0.704520         1100.0  \n",
            "1  0.701012  0.677418  0.696921  0.696544  0.689054         1000.0  \n",
            "2  0.676591  0.655951  0.658945  0.670989  0.665176         1300.0  \n",
            "3  0.751437  0.738497  0.742446  0.754657  0.733474         1300.0  \n",
            "4  0.762473  0.744012  0.775486  0.760431  0.751988          220.0  \n",
            "\n",
            "[5 rows x 450 columns]\n",
            "\n",
            "Dataset Information:\n",
            "<class 'pandas.core.frame.DataFrame'>\n",
            "RangeIndex: 500 entries, 0 to 499\n",
            "Columns: 450 entries, hsi_id to vomitoxin_ppb\n",
            "dtypes: float64(449), object(1)\n",
            "memory usage: 1.7+ MB\n",
            "None\n",
            "\n",
            "Dataset Summary Statistics:\n",
            "                0           1           2           3           4           5  \\\n",
            "count  500.000000  500.000000  500.000000  500.000000  500.000000  500.000000   \n",
            "mean     0.443118    0.440761    0.433814    0.426122    0.418990    0.412432   \n",
            "std      0.044719    0.045520    0.045764    0.046070    0.045405    0.044727   \n",
            "min      0.311182    0.295321    0.284064    0.282054    0.296702    0.286860   \n",
            "25%      0.410456    0.404310    0.397038    0.389029    0.382102    0.377157   \n",
            "50%      0.449105    0.442651    0.434215    0.425074    0.417075    0.411872   \n",
            "75%      0.480245    0.478822    0.473158    0.464947    0.459232    0.452198   \n",
            "max      0.556287    0.530168    0.528774    0.533202    0.511909    0.501786   \n",
            "\n",
            "                6           7           8           9  ...         439  \\\n",
            "count  500.000000  500.000000  500.000000  500.000000  ...  500.000000   \n",
            "mean     0.405868    0.399815    0.394038    0.389664  ...    0.741255   \n",
            "std      0.044528    0.043773    0.043659    0.043442  ...    0.053479   \n",
            "min      0.262876    0.278523    0.255529    0.261459  ...    0.562662   \n",
            "25%      0.369620    0.364823    0.360634    0.355246  ...    0.702105   \n",
            "50%      0.405443    0.397917    0.393803    0.387211  ...    0.743857   \n",
            "75%      0.444384    0.438728    0.431165    0.427039  ...    0.777884   \n",
            "max      0.504054    0.490692    0.489272    0.472080  ...    0.940642   \n",
            "\n",
            "              440         441         442         443         444         445  \\\n",
            "count  500.000000  500.000000  500.000000  500.000000  500.000000  500.000000   \n",
            "mean     0.740818    0.740459    0.739758    0.739850    0.738738    0.738298   \n",
            "std      0.053695    0.053812    0.053666    0.053487    0.053601    0.054014   \n",
            "min      0.585011    0.558412    0.571735    0.575259    0.571767    0.577803   \n",
            "25%      0.703701    0.702988    0.700889    0.701690    0.700638    0.698655   \n",
            "50%      0.745922    0.745062    0.743991    0.744004    0.743965    0.743301   \n",
            "75%      0.776210    0.777069    0.774759    0.775698    0.775686    0.775621   \n",
            "max      0.940361    0.939153    0.930366    0.942615    0.945225    0.932812   \n",
            "\n",
            "              446         447  vomitoxin_ppb  \n",
            "count  500.000000  500.000000     500.000000  \n",
            "mean     0.737599    0.738099    3410.006000  \n",
            "std      0.054136    0.054297   13095.803483  \n",
            "min      0.576985    0.562302       0.000000  \n",
            "25%      0.698107    0.699673     137.500000  \n",
            "50%      0.745216    0.745733     500.000000  \n",
            "75%      0.774635    0.774310    1700.000000  \n",
            "max      0.931381    0.957860  131000.000000  \n",
            "\n",
            "[8 rows x 449 columns]\n"
          ]
        }
      ]
    },
    {
      "cell_type": "code",
      "source": [
        "#Check for missng values\n",
        "print(\"\\n Missing Values Summary:\")\n",
        "print(data.isnull().sum())"
      ],
      "metadata": {
        "colab": {
          "base_uri": "https://localhost:8080/"
        },
        "id": "iNSd-cm3QpqN",
        "outputId": "35e0e3fd-40ac-4bcb-cd3a-e01f0b322f44"
      },
      "execution_count": 5,
      "outputs": [
        {
          "output_type": "stream",
          "name": "stdout",
          "text": [
            "\n",
            " Missing Values Summary:\n",
            "hsi_id           0\n",
            "0                0\n",
            "1                0\n",
            "2                0\n",
            "3                0\n",
            "                ..\n",
            "444              0\n",
            "445              0\n",
            "446              0\n",
            "447              0\n",
            "vomitoxin_ppb    0\n",
            "Length: 450, dtype: int64\n"
          ]
        }
      ]
    },
    {
      "cell_type": "code",
      "source": [
        "#Handle Missing Values\n",
        "data = data.dropna()"
      ],
      "metadata": {
        "id": "Zk3QKhGyQs54"
      },
      "execution_count": 6,
      "outputs": []
    },
    {
      "cell_type": "code",
      "source": [
        "#Statistical Summary\n",
        "print(\"\\n Statistical Summary:\")\n",
        "print(data.describe())"
      ],
      "metadata": {
        "colab": {
          "base_uri": "https://localhost:8080/"
        },
        "id": "u0eqh41nQuiV",
        "outputId": "072ed598-3385-42b7-a0a6-8a8808af0e53"
      },
      "execution_count": 7,
      "outputs": [
        {
          "output_type": "stream",
          "name": "stdout",
          "text": [
            "\n",
            " Statistical Summary:\n",
            "                0           1           2           3           4           5  \\\n",
            "count  500.000000  500.000000  500.000000  500.000000  500.000000  500.000000   \n",
            "mean     0.443118    0.440761    0.433814    0.426122    0.418990    0.412432   \n",
            "std      0.044719    0.045520    0.045764    0.046070    0.045405    0.044727   \n",
            "min      0.311182    0.295321    0.284064    0.282054    0.296702    0.286860   \n",
            "25%      0.410456    0.404310    0.397038    0.389029    0.382102    0.377157   \n",
            "50%      0.449105    0.442651    0.434215    0.425074    0.417075    0.411872   \n",
            "75%      0.480245    0.478822    0.473158    0.464947    0.459232    0.452198   \n",
            "max      0.556287    0.530168    0.528774    0.533202    0.511909    0.501786   \n",
            "\n",
            "                6           7           8           9  ...         439  \\\n",
            "count  500.000000  500.000000  500.000000  500.000000  ...  500.000000   \n",
            "mean     0.405868    0.399815    0.394038    0.389664  ...    0.741255   \n",
            "std      0.044528    0.043773    0.043659    0.043442  ...    0.053479   \n",
            "min      0.262876    0.278523    0.255529    0.261459  ...    0.562662   \n",
            "25%      0.369620    0.364823    0.360634    0.355246  ...    0.702105   \n",
            "50%      0.405443    0.397917    0.393803    0.387211  ...    0.743857   \n",
            "75%      0.444384    0.438728    0.431165    0.427039  ...    0.777884   \n",
            "max      0.504054    0.490692    0.489272    0.472080  ...    0.940642   \n",
            "\n",
            "              440         441         442         443         444         445  \\\n",
            "count  500.000000  500.000000  500.000000  500.000000  500.000000  500.000000   \n",
            "mean     0.740818    0.740459    0.739758    0.739850    0.738738    0.738298   \n",
            "std      0.053695    0.053812    0.053666    0.053487    0.053601    0.054014   \n",
            "min      0.585011    0.558412    0.571735    0.575259    0.571767    0.577803   \n",
            "25%      0.703701    0.702988    0.700889    0.701690    0.700638    0.698655   \n",
            "50%      0.745922    0.745062    0.743991    0.744004    0.743965    0.743301   \n",
            "75%      0.776210    0.777069    0.774759    0.775698    0.775686    0.775621   \n",
            "max      0.940361    0.939153    0.930366    0.942615    0.945225    0.932812   \n",
            "\n",
            "              446         447  vomitoxin_ppb  \n",
            "count  500.000000  500.000000     500.000000  \n",
            "mean     0.737599    0.738099    3410.006000  \n",
            "std      0.054136    0.054297   13095.803483  \n",
            "min      0.576985    0.562302       0.000000  \n",
            "25%      0.698107    0.699673     137.500000  \n",
            "50%      0.745216    0.745733     500.000000  \n",
            "75%      0.774635    0.774310    1700.000000  \n",
            "max      0.931381    0.957860  131000.000000  \n",
            "\n",
            "[8 rows x 449 columns]\n"
          ]
        }
      ]
    },
    {
      "cell_type": "code",
      "source": [
        "import pandas as pd\n",
        "from sklearn.model_selection import train_test_split\n",
        "# Load the data\n",
        "data = pd.read_csv('/content/TASK-ML-INTERN.csv')\n",
        "\n",
        "\n",
        "# Extracting features and target\n",
        "X = data.drop(['hsi_id', 'vomitoxin_ppb'], axis=1).values\n",
        "y = data['vomitoxin_ppb'].values\n"
      ],
      "metadata": {
        "id": "BriyjW7WQ18F"
      },
      "execution_count": 8,
      "outputs": []
    },
    {
      "cell_type": "code",
      "source": [
        "# Preparing data for CNN model\n",
        "\n",
        "from sklearn.model_selection import train_test_split\n",
        "from sklearn.preprocessing import StandardScaler\n",
        "import numpy as np\n",
        "import tensorflow as tf\n",
        "from tensorflow.keras.models import Sequential\n",
        "from tensorflow.keras.layers import Conv1D, MaxPooling1D, Flatten, Dense, Dropout\n",
        "\n",
        "# Extracting features and target\n",
        "X = data.drop(['hsi_id', 'vomitoxin_ppb'], axis=1).values\n",
        "y = data['vomitoxin_ppb'].values\n",
        "\n",
        "# Log-transform to address skewness in the target variable\n",
        "y_log = np.log1p(y)\n",
        "\n",
        "# Train-test split\n",
        "X_train, X_test, y_train, y_test = train_test_split(X, y_log, test_size=0.2, random_state=42)\n",
        "\n",
        "# Standardizing features\n",
        "scaler = StandardScaler()\n",
        "X_train_scaled = scaler.fit_transform(X_train)\n",
        "X_test_scaled = scaler.transform(X_test)\n",
        "\n",
        "# Reshaping data for CNN (samples, timesteps, channels)\n",
        "X_train_scaled = np.expand_dims(X_train_scaled, axis=2)\n",
        "X_test_scaled = np.expand_dims(X_test_scaled, axis=2)\n",
        "\n",
        "# Defining a simple 1D CNN model\n",
        "model = Sequential([\n",
        "    Conv1D(32, kernel_size=3, activation='relu', input_shape=(X_train_scaled.shape[1], 1)),\n",
        "    MaxPooling1D(pool_size=2),\n",
        "    Conv1D(64, kernel_size=3, activation='relu'),\n",
        "    MaxPooling1D(pool_size=2),\n",
        "    Flatten(),\n",
        "    Dense(64, activation='relu'),\n",
        "    Dropout(0.3),\n",
        "    Dense(1, activation='linear')  # Regression output\n",
        "])\n",
        "\n",
        "# Compiling the model\n",
        "model.compile(optimizer='adam', loss='mean_squared_error', metrics=['mae'])\n",
        "\n",
        "# Training the model\n",
        "history = model.fit(X_train_scaled, y_train, epochs=50, batch_size=32, validation_split=0.2, verbose=1)\n",
        "\n",
        "# Evaluate model performance\n",
        "test_loss, test_mae = model.evaluate(X_test_scaled, y_test, verbose=1)\n",
        "\n",
        "test_loss, test_mae\n"
      ],
      "metadata": {
        "colab": {
          "base_uri": "https://localhost:8080/"
        },
        "id": "5n1vh7C7i0zz",
        "outputId": "cefb60a7-3b12-4f96-bf0c-5ba325b1d8d9"
      },
      "execution_count": 9,
      "outputs": [
        {
          "output_type": "stream",
          "name": "stderr",
          "text": [
            "/usr/local/lib/python3.11/dist-packages/keras/src/layers/convolutional/base_conv.py:107: UserWarning: Do not pass an `input_shape`/`input_dim` argument to a layer. When using Sequential models, prefer using an `Input(shape)` object as the first layer in the model instead.\n",
            "  super().__init__(activity_regularizer=activity_regularizer, **kwargs)\n"
          ]
        },
        {
          "output_type": "stream",
          "name": "stdout",
          "text": [
            "Epoch 1/50\n",
            "\u001b[1m10/10\u001b[0m \u001b[32m━━━━━━━━━━━━━━━━━━━━\u001b[0m\u001b[37m\u001b[0m \u001b[1m4s\u001b[0m 76ms/step - loss: 25.0880 - mae: 4.1504 - val_loss: 16.0297 - val_mae: 3.6810\n",
            "Epoch 2/50\n",
            "\u001b[1m10/10\u001b[0m \u001b[32m━━━━━━━━━━━━━━━━━━━━\u001b[0m\u001b[37m\u001b[0m \u001b[1m0s\u001b[0m 9ms/step - loss: 13.5867 - mae: 3.2584 - val_loss: 13.6076 - val_mae: 2.6782\n",
            "Epoch 3/50\n",
            "\u001b[1m10/10\u001b[0m \u001b[32m━━━━━━━━━━━━━━━━━━━━\u001b[0m\u001b[37m\u001b[0m \u001b[1m0s\u001b[0m 9ms/step - loss: 9.5164 - mae: 2.2816 - val_loss: 11.3381 - val_mae: 2.9949\n",
            "Epoch 4/50\n",
            "\u001b[1m10/10\u001b[0m \u001b[32m━━━━━━━━━━━━━━━━━━━━\u001b[0m\u001b[37m\u001b[0m \u001b[1m0s\u001b[0m 9ms/step - loss: 8.2454 - mae: 2.2171 - val_loss: 10.2901 - val_mae: 2.7289\n",
            "Epoch 5/50\n",
            "\u001b[1m10/10\u001b[0m \u001b[32m━━━━━━━━━━━━━━━━━━━━\u001b[0m\u001b[37m\u001b[0m \u001b[1m0s\u001b[0m 10ms/step - loss: 9.3371 - mae: 2.5623 - val_loss: 11.1723 - val_mae: 2.4915\n",
            "Epoch 6/50\n",
            "\u001b[1m10/10\u001b[0m \u001b[32m━━━━━━━━━━━━━━━━━━━━\u001b[0m\u001b[37m\u001b[0m \u001b[1m0s\u001b[0m 9ms/step - loss: 9.6376 - mae: 2.3589 - val_loss: 9.7060 - val_mae: 2.6375\n",
            "Epoch 7/50\n",
            "\u001b[1m10/10\u001b[0m \u001b[32m━━━━━━━━━━━━━━━━━━━━\u001b[0m\u001b[37m\u001b[0m \u001b[1m0s\u001b[0m 10ms/step - loss: 7.5173 - mae: 2.0989 - val_loss: 9.4872 - val_mae: 2.6235\n",
            "Epoch 8/50\n",
            "\u001b[1m10/10\u001b[0m \u001b[32m━━━━━━━━━━━━━━━━━━━━\u001b[0m\u001b[37m\u001b[0m \u001b[1m0s\u001b[0m 9ms/step - loss: 7.1354 - mae: 2.1395 - val_loss: 9.1995 - val_mae: 2.4935\n",
            "Epoch 9/50\n",
            "\u001b[1m10/10\u001b[0m \u001b[32m━━━━━━━━━━━━━━━━━━━━\u001b[0m\u001b[37m\u001b[0m \u001b[1m0s\u001b[0m 9ms/step - loss: 7.3897 - mae: 2.1686 - val_loss: 9.3454 - val_mae: 2.4878\n",
            "Epoch 10/50\n",
            "\u001b[1m10/10\u001b[0m \u001b[32m━━━━━━━━━━━━━━━━━━━━\u001b[0m\u001b[37m\u001b[0m \u001b[1m0s\u001b[0m 9ms/step - loss: 7.4089 - mae: 2.1640 - val_loss: 9.1780 - val_mae: 2.5575\n",
            "Epoch 11/50\n",
            "\u001b[1m10/10\u001b[0m \u001b[32m━━━━━━━━━━━━━━━━━━━━\u001b[0m\u001b[37m\u001b[0m \u001b[1m0s\u001b[0m 9ms/step - loss: 7.2036 - mae: 2.1251 - val_loss: 8.9374 - val_mae: 2.4102\n",
            "Epoch 12/50\n",
            "\u001b[1m10/10\u001b[0m \u001b[32m━━━━━━━━━━━━━━━━━━━━\u001b[0m\u001b[37m\u001b[0m \u001b[1m0s\u001b[0m 9ms/step - loss: 6.2669 - mae: 1.9188 - val_loss: 9.6922 - val_mae: 2.7546\n",
            "Epoch 13/50\n",
            "\u001b[1m10/10\u001b[0m \u001b[32m━━━━━━━━━━━━━━━━━━━━\u001b[0m\u001b[37m\u001b[0m \u001b[1m0s\u001b[0m 9ms/step - loss: 7.2638 - mae: 2.1362 - val_loss: 8.6843 - val_mae: 2.4402\n",
            "Epoch 14/50\n",
            "\u001b[1m10/10\u001b[0m \u001b[32m━━━━━━━━━━━━━━━━━━━━\u001b[0m\u001b[37m\u001b[0m \u001b[1m0s\u001b[0m 9ms/step - loss: 6.9784 - mae: 2.1773 - val_loss: 8.8644 - val_mae: 2.3192\n",
            "Epoch 15/50\n",
            "\u001b[1m10/10\u001b[0m \u001b[32m━━━━━━━━━━━━━━━━━━━━\u001b[0m\u001b[37m\u001b[0m \u001b[1m0s\u001b[0m 9ms/step - loss: 6.8218 - mae: 2.0494 - val_loss: 8.8807 - val_mae: 2.4569\n",
            "Epoch 16/50\n",
            "\u001b[1m10/10\u001b[0m \u001b[32m━━━━━━━━━━━━━━━━━━━━\u001b[0m\u001b[37m\u001b[0m \u001b[1m0s\u001b[0m 9ms/step - loss: 7.1407 - mae: 2.2435 - val_loss: 9.0991 - val_mae: 2.2955\n",
            "Epoch 17/50\n",
            "\u001b[1m10/10\u001b[0m \u001b[32m━━━━━━━━━━━━━━━━━━━━\u001b[0m\u001b[37m\u001b[0m \u001b[1m0s\u001b[0m 10ms/step - loss: 6.3218 - mae: 1.9683 - val_loss: 8.6037 - val_mae: 2.3355\n",
            "Epoch 18/50\n",
            "\u001b[1m10/10\u001b[0m \u001b[32m━━━━━━━━━━━━━━━━━━━━\u001b[0m\u001b[37m\u001b[0m \u001b[1m0s\u001b[0m 9ms/step - loss: 5.6297 - mae: 1.8708 - val_loss: 8.5437 - val_mae: 2.4517\n",
            "Epoch 19/50\n",
            "\u001b[1m10/10\u001b[0m \u001b[32m━━━━━━━━━━━━━━━━━━━━\u001b[0m\u001b[37m\u001b[0m \u001b[1m0s\u001b[0m 9ms/step - loss: 6.6498 - mae: 2.0670 - val_loss: 8.5702 - val_mae: 2.4273\n",
            "Epoch 20/50\n",
            "\u001b[1m10/10\u001b[0m \u001b[32m━━━━━━━━━━━━━━━━━━━━\u001b[0m\u001b[37m\u001b[0m \u001b[1m0s\u001b[0m 9ms/step - loss: 5.9238 - mae: 1.9359 - val_loss: 9.0345 - val_mae: 2.5879\n",
            "Epoch 21/50\n",
            "\u001b[1m10/10\u001b[0m \u001b[32m━━━━━━━━━━━━━━━━━━━━\u001b[0m\u001b[37m\u001b[0m \u001b[1m0s\u001b[0m 9ms/step - loss: 6.6898 - mae: 2.1489 - val_loss: 8.9895 - val_mae: 2.2535\n",
            "Epoch 22/50\n",
            "\u001b[1m10/10\u001b[0m \u001b[32m━━━━━━━━━━━━━━━━━━━━\u001b[0m\u001b[37m\u001b[0m \u001b[1m0s\u001b[0m 9ms/step - loss: 6.1543 - mae: 1.9928 - val_loss: 10.0324 - val_mae: 2.2422\n",
            "Epoch 23/50\n",
            "\u001b[1m10/10\u001b[0m \u001b[32m━━━━━━━━━━━━━━━━━━━━\u001b[0m\u001b[37m\u001b[0m \u001b[1m0s\u001b[0m 9ms/step - loss: 5.9612 - mae: 1.8277 - val_loss: 8.6404 - val_mae: 2.4022\n",
            "Epoch 24/50\n",
            "\u001b[1m10/10\u001b[0m \u001b[32m━━━━━━━━━━━━━━━━━━━━\u001b[0m\u001b[37m\u001b[0m \u001b[1m0s\u001b[0m 9ms/step - loss: 6.0819 - mae: 1.8821 - val_loss: 8.7648 - val_mae: 2.6223\n",
            "Epoch 25/50\n",
            "\u001b[1m10/10\u001b[0m \u001b[32m━━━━━━━━━━━━━━━━━━━━\u001b[0m\u001b[37m\u001b[0m \u001b[1m0s\u001b[0m 10ms/step - loss: 5.8333 - mae: 1.9951 - val_loss: 8.7187 - val_mae: 2.3408\n",
            "Epoch 26/50\n",
            "\u001b[1m10/10\u001b[0m \u001b[32m━━━━━━━━━━━━━━━━━━━━\u001b[0m\u001b[37m\u001b[0m \u001b[1m0s\u001b[0m 10ms/step - loss: 5.6103 - mae: 1.9075 - val_loss: 9.3429 - val_mae: 2.2547\n",
            "Epoch 27/50\n",
            "\u001b[1m10/10\u001b[0m \u001b[32m━━━━━━━━━━━━━━━━━━━━\u001b[0m\u001b[37m\u001b[0m \u001b[1m0s\u001b[0m 9ms/step - loss: 5.4230 - mae: 1.8075 - val_loss: 8.4288 - val_mae: 2.4069\n",
            "Epoch 28/50\n",
            "\u001b[1m10/10\u001b[0m \u001b[32m━━━━━━━━━━━━━━━━━━━━\u001b[0m\u001b[37m\u001b[0m \u001b[1m0s\u001b[0m 9ms/step - loss: 4.8258 - mae: 1.7059 - val_loss: 8.6462 - val_mae: 2.5613\n",
            "Epoch 29/50\n",
            "\u001b[1m10/10\u001b[0m \u001b[32m━━━━━━━━━━━━━━━━━━━━\u001b[0m\u001b[37m\u001b[0m \u001b[1m0s\u001b[0m 9ms/step - loss: 5.0088 - mae: 1.7882 - val_loss: 8.5904 - val_mae: 2.3763\n",
            "Epoch 30/50\n",
            "\u001b[1m10/10\u001b[0m \u001b[32m━━━━━━━━━━━━━━━━━━━━\u001b[0m\u001b[37m\u001b[0m \u001b[1m0s\u001b[0m 9ms/step - loss: 4.2343 - mae: 1.6188 - val_loss: 8.4545 - val_mae: 2.3766\n",
            "Epoch 31/50\n",
            "\u001b[1m10/10\u001b[0m \u001b[32m━━━━━━━━━━━━━━━━━━━━\u001b[0m\u001b[37m\u001b[0m \u001b[1m0s\u001b[0m 9ms/step - loss: 4.3363 - mae: 1.7174 - val_loss: 9.4540 - val_mae: 2.2205\n",
            "Epoch 32/50\n",
            "\u001b[1m10/10\u001b[0m \u001b[32m━━━━━━━━━━━━━━━━━━━━\u001b[0m\u001b[37m\u001b[0m \u001b[1m0s\u001b[0m 9ms/step - loss: 5.6312 - mae: 1.8921 - val_loss: 8.9096 - val_mae: 2.3013\n",
            "Epoch 33/50\n",
            "\u001b[1m10/10\u001b[0m \u001b[32m━━━━━━━━━━━━━━━━━━━━\u001b[0m\u001b[37m\u001b[0m \u001b[1m0s\u001b[0m 9ms/step - loss: 3.8402 - mae: 1.5553 - val_loss: 9.1235 - val_mae: 2.2575\n",
            "Epoch 34/50\n",
            "\u001b[1m10/10\u001b[0m \u001b[32m━━━━━━━━━━━━━━━━━━━━\u001b[0m\u001b[37m\u001b[0m \u001b[1m0s\u001b[0m 10ms/step - loss: 3.9915 - mae: 1.4925 - val_loss: 8.8887 - val_mae: 2.2302\n",
            "Epoch 35/50\n",
            "\u001b[1m10/10\u001b[0m \u001b[32m━━━━━━━━━━━━━━━━━━━━\u001b[0m\u001b[37m\u001b[0m \u001b[1m0s\u001b[0m 10ms/step - loss: 4.2389 - mae: 1.6253 - val_loss: 8.6346 - val_mae: 2.2695\n",
            "Epoch 36/50\n",
            "\u001b[1m10/10\u001b[0m \u001b[32m━━━━━━━━━━━━━━━━━━━━\u001b[0m\u001b[37m\u001b[0m \u001b[1m0s\u001b[0m 9ms/step - loss: 4.1846 - mae: 1.5921 - val_loss: 9.0543 - val_mae: 2.3324\n",
            "Epoch 37/50\n",
            "\u001b[1m10/10\u001b[0m \u001b[32m━━━━━━━━━━━━━━━━━━━━\u001b[0m\u001b[37m\u001b[0m \u001b[1m0s\u001b[0m 9ms/step - loss: 3.8009 - mae: 1.5392 - val_loss: 8.4806 - val_mae: 2.2896\n",
            "Epoch 38/50\n",
            "\u001b[1m10/10\u001b[0m \u001b[32m━━━━━━━━━━━━━━━━━━━━\u001b[0m\u001b[37m\u001b[0m \u001b[1m0s\u001b[0m 10ms/step - loss: 3.7811 - mae: 1.5280 - val_loss: 8.5120 - val_mae: 2.4147\n",
            "Epoch 39/50\n",
            "\u001b[1m10/10\u001b[0m \u001b[32m━━━━━━━━━━━━━━━━━━━━\u001b[0m\u001b[37m\u001b[0m \u001b[1m0s\u001b[0m 10ms/step - loss: 3.6172 - mae: 1.5604 - val_loss: 8.4761 - val_mae: 2.3667\n",
            "Epoch 40/50\n",
            "\u001b[1m10/10\u001b[0m \u001b[32m━━━━━━━━━━━━━━━━━━━━\u001b[0m\u001b[37m\u001b[0m \u001b[1m0s\u001b[0m 9ms/step - loss: 2.8720 - mae: 1.3852 - val_loss: 8.6185 - val_mae: 2.2345\n",
            "Epoch 41/50\n",
            "\u001b[1m10/10\u001b[0m \u001b[32m━━━━━━━━━━━━━━━━━━━━\u001b[0m\u001b[37m\u001b[0m \u001b[1m0s\u001b[0m 9ms/step - loss: 3.1510 - mae: 1.4444 - val_loss: 8.5538 - val_mae: 2.3130\n",
            "Epoch 42/50\n",
            "\u001b[1m10/10\u001b[0m \u001b[32m━━━━━━━━━━━━━━━━━━━━\u001b[0m\u001b[37m\u001b[0m \u001b[1m0s\u001b[0m 9ms/step - loss: 2.7867 - mae: 1.3013 - val_loss: 8.5993 - val_mae: 2.2864\n",
            "Epoch 43/50\n",
            "\u001b[1m10/10\u001b[0m \u001b[32m━━━━━━━━━━━━━━━━━━━━\u001b[0m\u001b[37m\u001b[0m \u001b[1m0s\u001b[0m 9ms/step - loss: 2.7702 - mae: 1.3052 - val_loss: 8.4102 - val_mae: 2.4061\n",
            "Epoch 44/50\n",
            "\u001b[1m10/10\u001b[0m \u001b[32m━━━━━━━━━━━━━━━━━━━━\u001b[0m\u001b[37m\u001b[0m \u001b[1m0s\u001b[0m 9ms/step - loss: 2.6482 - mae: 1.3221 - val_loss: 8.5886 - val_mae: 2.3423\n",
            "Epoch 45/50\n",
            "\u001b[1m10/10\u001b[0m \u001b[32m━━━━━━━━━━━━━━━━━━━━\u001b[0m\u001b[37m\u001b[0m \u001b[1m0s\u001b[0m 9ms/step - loss: 2.2725 - mae: 1.2122 - val_loss: 8.6621 - val_mae: 2.3475\n",
            "Epoch 46/50\n",
            "\u001b[1m10/10\u001b[0m \u001b[32m━━━━━━━━━━━━━━━━━━━━\u001b[0m\u001b[37m\u001b[0m \u001b[1m0s\u001b[0m 9ms/step - loss: 2.8242 - mae: 1.3669 - val_loss: 8.7673 - val_mae: 2.5485\n",
            "Epoch 47/50\n",
            "\u001b[1m10/10\u001b[0m \u001b[32m━━━━━━━━━━━━━━━━━━━━\u001b[0m\u001b[37m\u001b[0m \u001b[1m0s\u001b[0m 9ms/step - loss: 2.8362 - mae: 1.3809 - val_loss: 8.7229 - val_mae: 2.4651\n",
            "Epoch 48/50\n",
            "\u001b[1m10/10\u001b[0m \u001b[32m━━━━━━━━━━━━━━━━━━━━\u001b[0m\u001b[37m\u001b[0m \u001b[1m0s\u001b[0m 9ms/step - loss: 2.4158 - mae: 1.2795 - val_loss: 8.5184 - val_mae: 2.3966\n",
            "Epoch 49/50\n",
            "\u001b[1m10/10\u001b[0m \u001b[32m━━━━━━━━━━━━━━━━━━━━\u001b[0m\u001b[37m\u001b[0m \u001b[1m0s\u001b[0m 9ms/step - loss: 2.3554 - mae: 1.2317 - val_loss: 8.7157 - val_mae: 2.4605\n",
            "Epoch 50/50\n",
            "\u001b[1m10/10\u001b[0m \u001b[32m━━━━━━━━━━━━━━━━━━━━\u001b[0m\u001b[37m\u001b[0m \u001b[1m0s\u001b[0m 9ms/step - loss: 1.9155 - mae: 1.1565 - val_loss: 8.9124 - val_mae: 2.5055\n",
            "\u001b[1m4/4\u001b[0m \u001b[32m━━━━━━━━━━━━━━━━━━━━\u001b[0m\u001b[37m\u001b[0m \u001b[1m0s\u001b[0m 89ms/step - loss: 9.7424 - mae: 2.4660\n"
          ]
        },
        {
          "output_type": "execute_result",
          "data": {
            "text/plain": [
              "(8.828330993652344, 2.361053705215454)"
            ]
          },
          "metadata": {},
          "execution_count": 9
        }
      ]
    },
    {
      "cell_type": "code",
      "source": [
        "# Predict on the test set\n",
        "y_pred = model.predict(X_test_scaled.squeeze())\n",
        "\n",
        "# Evaluate regression metrics\n",
        "mae = mean_absolute_error(y_test, y_pred)\n",
        "rmse = np.sqrt(mean_squared_error(y_test, y_pred))\n",
        "r2 = r2_score(y_test, y_pred)\n",
        "\n",
        "mae, rmse, r2"
      ],
      "metadata": {
        "colab": {
          "base_uri": "https://localhost:8080/"
        },
        "id": "R7owBsYmjO_M",
        "outputId": "9400cddf-0070-45f1-99cf-c327c7da97de"
      },
      "execution_count": 10,
      "outputs": [
        {
          "output_type": "stream",
          "name": "stdout",
          "text": [
            "\u001b[1m4/4\u001b[0m \u001b[32m━━━━━━━━━━━━━━━━━━━━\u001b[0m\u001b[37m\u001b[0m \u001b[1m0s\u001b[0m 78ms/step\n"
          ]
        },
        {
          "output_type": "execute_result",
          "data": {
            "text/plain": [
              "(2.3610537274326595, 2.9712507754846746, -0.08745262358221373)"
            ]
          },
          "metadata": {},
          "execution_count": 10
        }
      ]
    },
    {
      "cell_type": "code",
      "source": [
        "import matplotlib.pyplot as plt\n",
        "\n",
        "plt.figure(figsize=(8, 6))\n",
        "plt.scatter(y_test, y_pred, alpha=0.7)\n",
        "plt.xlabel(\"Actual Vomitoxin (ppb)\")\n",
        "plt.ylabel(\"Predicted Vomitoxin (ppb)\")\n",
        "plt.title(\"Scatter Plot of Actual vs. Predicted Values\")\n",
        "plt.plot([y_test.min(), y_test.max()], [y_test.min(), y_test.max()], 'r--', linewidth=2)\n",
        "plt.grid(True)\n",
        "plt.show()\n"
      ],
      "metadata": {
        "colab": {
          "base_uri": "https://localhost:8080/",
          "height": 519
        },
        "id": "6HI3aUNHl3gZ",
        "outputId": "a62338fe-1e90-44fe-ec29-7aa8956b78be"
      },
      "execution_count": 11,
      "outputs": [
        {
          "output_type": "display_data",
          "data": {
            "text/plain": [
              "<Figure size 800x600 with 1 Axes>"
            ],
            "image/png": "[encoded data removed]"
          },
          "metadata": {}
        }
      ]
    },
    {
      "cell_type": "markdown",
      "source": [
        "Negative R2 means the chosen model fits the data very poorly."
      ],
      "metadata": {
        "id": "8TiRhjEZ-iyi"
      }
    }
  ]
}