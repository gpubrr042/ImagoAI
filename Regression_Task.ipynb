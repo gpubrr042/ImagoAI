{
  "nbformat": 4,
  "nbformat_minor": 0,
  "metadata": {
    "colab": {
      "provenance": [],
      "machine_shape": "hm",
      "gpuType": "A100"
    },
    "kernelspec": {
      "name": "python3",
      "display_name": "Python 3"
    },
    "language_info": {
      "name": "python"
    },
    "accelerator": "GPU"
  },
  "cells": [
    {
      "cell_type": "markdown",
      "source": [
        "Dataset Description :\n",
        "1. 500 corn samples\n",
        "2. 448 Spectral brands\n",
        "3. Vomitoxin_parts per billion\n",
        "\n",
        "Regression Task : Predict vomitoxin concentraion based on spectral data.\n",
        "\n",
        "Log transform to deal with rightly skewed data distribution of target variable\n"
      ],
      "metadata": {
        "id": "IQ3nyjxHN-JZ"
      }
    },
    {
      "cell_type": "markdown",
      "source": [
        "Choice of the model -\n",
        "CNNs are a great fit for hyperspectral data because they can capture local spectral patterns (e.g., peaks/dips across adjacent bands) while being computationally efficient and widely successful in similar tasks.\n",
        "\n",
        "We will treat 448 bands as 1D seqquence, leveraging convolutional filters to extract feeatures.\n"
      ],
      "metadata": {
        "id": "asl4vWA1PLYM"
      }
    },
    {
      "cell_type": "code",
      "execution_count": 12,
      "metadata": {
        "id": "ti6bAn6HNzoZ"
      },
      "outputs": [],
      "source": [
        "\n",
        "import pandas as pd\n",
        "import numpy as np\n",
        "from sklearn.preprocessing import StandardScaler\n",
        "from sklearn.decomposition import PCA\n",
        "from sklearn.model_selection import train_test_split\n",
        "from sklearn.linear_model import LinearRegression\n",
        "from sklearn.metrics import mean_absolute_error, mean_squared_error, r2_score\n",
        "import matplotlib.pyplot as plt\n",
        "import seaborn as sns\n"
      ]
    },
    {
      "cell_type": "code",
      "source": [
        "#Load Datasets\n",
        "data  = pd.read_csv('/content/TASK-ML-INTERN.csv')\n",
        "\n",
        "#Dataset Statisticss\n",
        "print(\"Dataset Overview:\")\n",
        "print(data.head())\n",
        "print(\"\\nDataset Information:\")\n",
        "print(data.info())\n",
        "print(\"\\nDataset Summary Statistics:\")\n",
        "print(data.describe())"
      ],
      "metadata": {
        "colab": {
          "base_uri": "https://localhost:8080/"
        },
        "id": "rwqQAGP_QbDS",
        "outputId": "ef3923d4-39c7-44b8-c1ff-bb4866600fd9"
      },
      "execution_count": 13,
      "outputs": [
        {
          "output_type": "stream",
          "name": "stdout",
          "text": [
            "Dataset Overview:\n",
            "           hsi_id         0         1         2         3         4         5  \\\n",
            "0  imagoai_corn_0  0.416181  0.396844  0.408985  0.372865  0.385293  0.365390   \n",
            "1  imagoai_corn_1  0.415797  0.402956  0.402564  0.396014  0.397192  0.389634   \n",
            "2  imagoai_corn_2  0.389023  0.371206  0.373098  0.373872  0.361056  0.349709   \n",
            "3  imagoai_corn_3  0.468837  0.473255  0.462949  0.459335  0.461672  0.459824   \n",
            "4  imagoai_corn_4  0.483352  0.487274  0.469153  0.487648  0.464026  0.451152   \n",
            "\n",
            "          6         7         8  ...       439       440       441       442  \\\n",
            "0  0.355226  0.343350  0.344837  ...  0.710280  0.717482  0.715078  0.705379   \n",
            "1  0.375671  0.363689  0.373883  ...  0.684011  0.697271  0.701995  0.696077   \n",
            "2  0.333882  0.330841  0.328925  ...  0.683054  0.669286  0.663179  0.676165   \n",
            "3  0.458194  0.427737  0.415360  ...  0.742782  0.730801  0.736787  0.730044   \n",
            "4  0.458229  0.440782  0.426193  ...  0.770227  0.773013  0.761431  0.763488   \n",
            "\n",
            "        443       444       445       446       447  vomitoxin_ppb  \n",
            "0  0.696691  0.692793  0.711369  0.697679  0.704520         1100.0  \n",
            "1  0.701012  0.677418  0.696921  0.696544  0.689054         1000.0  \n",
            "2  0.676591  0.655951  0.658945  0.670989  0.665176         1300.0  \n",
            "3  0.751437  0.738497  0.742446  0.754657  0.733474         1300.0  \n",
            "4  0.762473  0.744012  0.775486  0.760431  0.751988          220.0  \n",
            "\n",
            "[5 rows x 450 columns]\n",
            "\n",
            "Dataset Information:\n",
            "<class 'pandas.core.frame.DataFrame'>\n",
            "RangeIndex: 500 entries, 0 to 499\n",
            "Columns: 450 entries, hsi_id to vomitoxin_ppb\n",
            "dtypes: float64(449), object(1)\n",
            "memory usage: 1.7+ MB\n",
            "None\n",
            "\n",
            "Dataset Summary Statistics:\n",
            "                0           1           2           3           4           5  \\\n",
            "count  500.000000  500.000000  500.000000  500.000000  500.000000  500.000000   \n",
            "mean     0.443118    0.440761    0.433814    0.426122    0.418990    0.412432   \n",
            "std      0.044719    0.045520    0.045764    0.046070    0.045405    0.044727   \n",
            "min      0.311182    0.295321    0.284064    0.282054    0.296702    0.286860   \n",
            "25%      0.410456    0.404310    0.397038    0.389029    0.382102    0.377157   \n",
            "50%      0.449105    0.442651    0.434215    0.425074    0.417075    0.411872   \n",
            "75%      0.480245    0.478822    0.473158    0.464947    0.459232    0.452198   \n",
            "max      0.556287    0.530168    0.528774    0.533202    0.511909    0.501786   \n",
            "\n",
            "                6           7           8           9  ...         439  \\\n",
            "count  500.000000  500.000000  500.000000  500.000000  ...  500.000000   \n",
            "mean     0.405868    0.399815    0.394038    0.389664  ...    0.741255   \n",
            "std      0.044528    0.043773    0.043659    0.043442  ...    0.053479   \n",
            "min      0.262876    0.278523    0.255529    0.261459  ...    0.562662   \n",
            "25%      0.369620    0.364823    0.360634    0.355246  ...    0.702105   \n",
            "50%      0.405443    0.397917    0.393803    0.387211  ...    0.743857   \n",
            "75%      0.444384    0.438728    0.431165    0.427039  ...    0.777884   \n",
            "max      0.504054    0.490692    0.489272    0.472080  ...    0.940642   \n",
            "\n",
            "              440         441         442         443         444         445  \\\n",
            "count  500.000000  500.000000  500.000000  500.000000  500.000000  500.000000   \n",
            "mean     0.740818    0.740459    0.739758    0.739850    0.738738    0.738298   \n",
            "std      0.053695    0.053812    0.053666    0.053487    0.053601    0.054014   \n",
            "min      0.585011    0.558412    0.571735    0.575259    0.571767    0.577803   \n",
            "25%      0.703701    0.702988    0.700889    0.701690    0.700638    0.698655   \n",
            "50%      0.745922    0.745062    0.743991    0.744004    0.743965    0.743301   \n",
            "75%      0.776210    0.777069    0.774759    0.775698    0.775686    0.775621   \n",
            "max      0.940361    0.939153    0.930366    0.942615    0.945225    0.932812   \n",
            "\n",
            "              446         447  vomitoxin_ppb  \n",
            "count  500.000000  500.000000     500.000000  \n",
            "mean     0.737599    0.738099    3410.006000  \n",
            "std      0.054136    0.054297   13095.803483  \n",
            "min      0.576985    0.562302       0.000000  \n",
            "25%      0.698107    0.699673     137.500000  \n",
            "50%      0.745216    0.745733     500.000000  \n",
            "75%      0.774635    0.774310    1700.000000  \n",
            "max      0.931381    0.957860  131000.000000  \n",
            "\n",
            "[8 rows x 449 columns]\n"
          ]
        }
      ]
    },
    {
      "cell_type": "code",
      "source": [
        "#Check for missng values\n",
        "print(\"\\n Missing Values Summary:\")\n",
        "print(data.isnull().sum())"
      ],
      "metadata": {
        "colab": {
          "base_uri": "https://localhost:8080/"
        },
        "id": "iNSd-cm3QpqN",
        "outputId": "4d96a9c1-54c3-48f3-f879-025ec76e4b78"
      },
      "execution_count": 14,
      "outputs": [
        {
          "output_type": "stream",
          "name": "stdout",
          "text": [
            "\n",
            " Missing Values Summary:\n",
            "hsi_id           0\n",
            "0                0\n",
            "1                0\n",
            "2                0\n",
            "3                0\n",
            "                ..\n",
            "444              0\n",
            "445              0\n",
            "446              0\n",
            "447              0\n",
            "vomitoxin_ppb    0\n",
            "Length: 450, dtype: int64\n"
          ]
        }
      ]
    },
    {
      "cell_type": "code",
      "source": [
        "#Handle Missing Values\n",
        "data = data.dropna()"
      ],
      "metadata": {
        "id": "Zk3QKhGyQs54"
      },
      "execution_count": 15,
      "outputs": []
    },
    {
      "cell_type": "code",
      "source": [
        "#Statistical Summary\n",
        "print(\"\\n Statistical Summary:\")\n",
        "print(data.describe())"
      ],
      "metadata": {
        "colab": {
          "base_uri": "https://localhost:8080/"
        },
        "id": "u0eqh41nQuiV",
        "outputId": "d0c012fd-3d7e-4fef-a015-b8bd853d3b2c"
      },
      "execution_count": 16,
      "outputs": [
        {
          "output_type": "stream",
          "name": "stdout",
          "text": [
            "\n",
            " Statistical Summary:\n",
            "                0           1           2           3           4           5  \\\n",
            "count  500.000000  500.000000  500.000000  500.000000  500.000000  500.000000   \n",
            "mean     0.443118    0.440761    0.433814    0.426122    0.418990    0.412432   \n",
            "std      0.044719    0.045520    0.045764    0.046070    0.045405    0.044727   \n",
            "min      0.311182    0.295321    0.284064    0.282054    0.296702    0.286860   \n",
            "25%      0.410456    0.404310    0.397038    0.389029    0.382102    0.377157   \n",
            "50%      0.449105    0.442651    0.434215    0.425074    0.417075    0.411872   \n",
            "75%      0.480245    0.478822    0.473158    0.464947    0.459232    0.452198   \n",
            "max      0.556287    0.530168    0.528774    0.533202    0.511909    0.501786   \n",
            "\n",
            "                6           7           8           9  ...         439  \\\n",
            "count  500.000000  500.000000  500.000000  500.000000  ...  500.000000   \n",
            "mean     0.405868    0.399815    0.394038    0.389664  ...    0.741255   \n",
            "std      0.044528    0.043773    0.043659    0.043442  ...    0.053479   \n",
            "min      0.262876    0.278523    0.255529    0.261459  ...    0.562662   \n",
            "25%      0.369620    0.364823    0.360634    0.355246  ...    0.702105   \n",
            "50%      0.405443    0.397917    0.393803    0.387211  ...    0.743857   \n",
            "75%      0.444384    0.438728    0.431165    0.427039  ...    0.777884   \n",
            "max      0.504054    0.490692    0.489272    0.472080  ...    0.940642   \n",
            "\n",
            "              440         441         442         443         444         445  \\\n",
            "count  500.000000  500.000000  500.000000  500.000000  500.000000  500.000000   \n",
            "mean     0.740818    0.740459    0.739758    0.739850    0.738738    0.738298   \n",
            "std      0.053695    0.053812    0.053666    0.053487    0.053601    0.054014   \n",
            "min      0.585011    0.558412    0.571735    0.575259    0.571767    0.577803   \n",
            "25%      0.703701    0.702988    0.700889    0.701690    0.700638    0.698655   \n",
            "50%      0.745922    0.745062    0.743991    0.744004    0.743965    0.743301   \n",
            "75%      0.776210    0.777069    0.774759    0.775698    0.775686    0.775621   \n",
            "max      0.940361    0.939153    0.930366    0.942615    0.945225    0.932812   \n",
            "\n",
            "              446         447  vomitoxin_ppb  \n",
            "count  500.000000  500.000000     500.000000  \n",
            "mean     0.737599    0.738099    3410.006000  \n",
            "std      0.054136    0.054297   13095.803483  \n",
            "min      0.576985    0.562302       0.000000  \n",
            "25%      0.698107    0.699673     137.500000  \n",
            "50%      0.745216    0.745733     500.000000  \n",
            "75%      0.774635    0.774310    1700.000000  \n",
            "max      0.931381    0.957860  131000.000000  \n",
            "\n",
            "[8 rows x 449 columns]\n"
          ]
        }
      ]
    },
    {
      "cell_type": "code",
      "source": [
        "import pandas as pd\n",
        "from sklearn.model_selection import train_test_split\n",
        "# Load the data\n",
        "data = pd.read_csv('/content/TASK-ML-INTERN.csv')\n",
        "\n",
        "\n",
        "# Extracting features and target\n",
        "X = data.drop(['hsi_id', 'vomitoxin_ppb'], axis=1).values\n",
        "y = data['vomitoxin_ppb'].values\n"
      ],
      "metadata": {
        "id": "BriyjW7WQ18F"
      },
      "execution_count": 17,
      "outputs": []
    },
    {
      "cell_type": "code",
      "source": [
        "# Preparing data for CNN model\n",
        "\n",
        "from sklearn.model_selection import train_test_split\n",
        "from sklearn.preprocessing import StandardScaler\n",
        "import numpy as np\n",
        "import tensorflow as tf\n",
        "from tensorflow.keras.models import Sequential\n",
        "from tensorflow.keras.layers import Conv1D, MaxPooling1D, Flatten, Dense, Dropout\n",
        "\n",
        "# Extracting features and target\n",
        "X = data.drop(['hsi_id', 'vomitoxin_ppb'], axis=1).values\n",
        "y = data['vomitoxin_ppb'].values\n",
        "\n",
        "# Log-transform to address skewness in the target variable\n",
        "y_log = np.log1p(y)\n",
        "\n",
        "# Train-test split\n",
        "X_train, X_test, y_train, y_test = train_test_split(X, y_log, test_size=0.2, random_state=42)\n",
        "\n",
        "# Standardizing features\n",
        "scaler = StandardScaler()\n",
        "X_train_scaled = scaler.fit_transform(X_train)\n",
        "X_test_scaled = scaler.transform(X_test)\n",
        "\n",
        "# Reshaping data for CNN (samples, timesteps, channels)\n",
        "X_train_scaled = np.expand_dims(X_train_scaled, axis=2)\n",
        "X_test_scaled = np.expand_dims(X_test_scaled, axis=2)\n",
        "\n",
        "# Defining a simple 1D CNN model\n",
        "model = Sequential([\n",
        "    Conv1D(32, kernel_size=3, activation='relu', input_shape=(X_train_scaled.shape[1], 1)),\n",
        "    MaxPooling1D(pool_size=2),\n",
        "    Conv1D(64, kernel_size=3, activation='relu'),\n",
        "    MaxPooling1D(pool_size=2),\n",
        "    Flatten(),\n",
        "    Dense(64, activation='relu'),\n",
        "    Dropout(0.3),\n",
        "    Dense(1, activation='linear')  # Regression output\n",
        "])\n",
        "\n",
        "# Compiling the model\n",
        "model.compile(optimizer='adam', loss='mean_squared_error', metrics=['mae'])\n",
        "\n",
        "# Training the model\n",
        "history = model.fit(X_train_scaled, y_train, epochs=50, batch_size=32, validation_split=0.2, verbose=1)\n",
        "\n",
        "# Evaluate model performance\n",
        "test_loss, test_mae = model.evaluate(X_test_scaled, y_test, verbose=1)\n",
        "\n",
        "test_loss, test_mae\n"
      ],
      "metadata": {
        "colab": {
          "base_uri": "https://localhost:8080/"
        },
        "id": "5n1vh7C7i0zz",
        "outputId": "7004039b-9835-419b-d79d-6a9c74ff7abc"
      },
      "execution_count": 18,
      "outputs": [
        {
          "output_type": "stream",
          "name": "stdout",
          "text": [
            "Epoch 1/50\n"
          ]
        },
        {
          "output_type": "stream",
          "name": "stderr",
          "text": [
            "/usr/local/lib/python3.11/dist-packages/keras/src/layers/convolutional/base_conv.py:107: UserWarning: Do not pass an `input_shape`/`input_dim` argument to a layer. When using Sequential models, prefer using an `Input(shape)` object as the first layer in the model instead.\n",
            "  super().__init__(activity_regularizer=activity_regularizer, **kwargs)\n"
          ]
        },
        {
          "output_type": "stream",
          "name": "stdout",
          "text": [
            "\u001b[1m10/10\u001b[0m \u001b[32m━━━━━━━━━━━━━━━━━━━━\u001b[0m\u001b[37m\u001b[0m \u001b[1m3s\u001b[0m 61ms/step - loss: 25.7288 - mae: 4.3160 - val_loss: 15.8886 - val_mae: 3.6606\n",
            "Epoch 2/50\n",
            "\u001b[1m10/10\u001b[0m \u001b[32m━━━━━━━━━━━━━━━━━━━━\u001b[0m\u001b[37m\u001b[0m \u001b[1m0s\u001b[0m 10ms/step - loss: 14.4794 - mae: 3.3181 - val_loss: 11.5204 - val_mae: 2.8618\n",
            "Epoch 3/50\n",
            "\u001b[1m10/10\u001b[0m \u001b[32m━━━━━━━━━━━━━━━━━━━━\u001b[0m\u001b[37m\u001b[0m \u001b[1m0s\u001b[0m 10ms/step - loss: 8.8464 - mae: 2.3108 - val_loss: 10.1259 - val_mae: 2.5932\n",
            "Epoch 4/50\n",
            "\u001b[1m10/10\u001b[0m \u001b[32m━━━━━━━━━━━━━━━━━━━━\u001b[0m\u001b[37m\u001b[0m \u001b[1m0s\u001b[0m 10ms/step - loss: 9.3086 - mae: 2.4053 - val_loss: 10.7571 - val_mae: 2.4233\n",
            "Epoch 5/50\n",
            "\u001b[1m10/10\u001b[0m \u001b[32m━━━━━━━━━━━━━━━━━━━━\u001b[0m\u001b[37m\u001b[0m \u001b[1m0s\u001b[0m 10ms/step - loss: 9.6590 - mae: 2.3839 - val_loss: 9.9830 - val_mae: 2.6620\n",
            "Epoch 6/50\n",
            "\u001b[1m10/10\u001b[0m \u001b[32m━━━━━━━━━━━━━━━━━━━━\u001b[0m\u001b[37m\u001b[0m \u001b[1m0s\u001b[0m 10ms/step - loss: 9.1955 - mae: 2.3895 - val_loss: 9.7635 - val_mae: 2.6449\n",
            "Epoch 7/50\n",
            "\u001b[1m10/10\u001b[0m \u001b[32m━━━━━━━━━━━━━━━━━━━━\u001b[0m\u001b[37m\u001b[0m \u001b[1m0s\u001b[0m 10ms/step - loss: 8.1703 - mae: 2.3152 - val_loss: 9.3328 - val_mae: 2.5368\n",
            "Epoch 8/50\n",
            "\u001b[1m10/10\u001b[0m \u001b[32m━━━━━━━━━━━━━━━━━━━━\u001b[0m\u001b[37m\u001b[0m \u001b[1m0s\u001b[0m 10ms/step - loss: 7.6816 - mae: 2.2901 - val_loss: 9.3532 - val_mae: 2.4024\n",
            "Epoch 9/50\n",
            "\u001b[1m10/10\u001b[0m \u001b[32m━━━━━━━━━━━━━━━━━━━━\u001b[0m\u001b[37m\u001b[0m \u001b[1m0s\u001b[0m 10ms/step - loss: 7.4658 - mae: 2.0435 - val_loss: 9.0851 - val_mae: 2.5409\n",
            "Epoch 10/50\n",
            "\u001b[1m10/10\u001b[0m \u001b[32m━━━━━━━━━━━━━━━━━━━━\u001b[0m\u001b[37m\u001b[0m \u001b[1m0s\u001b[0m 10ms/step - loss: 6.9442 - mae: 2.1062 - val_loss: 8.8689 - val_mae: 2.5369\n",
            "Epoch 11/50\n",
            "\u001b[1m10/10\u001b[0m \u001b[32m━━━━━━━━━━━━━━━━━━━━\u001b[0m\u001b[37m\u001b[0m \u001b[1m0s\u001b[0m 10ms/step - loss: 7.2664 - mae: 2.1747 - val_loss: 8.5729 - val_mae: 2.3622\n",
            "Epoch 12/50\n",
            "\u001b[1m10/10\u001b[0m \u001b[32m━━━━━━━━━━━━━━━━━━━━\u001b[0m\u001b[37m\u001b[0m \u001b[1m0s\u001b[0m 9ms/step - loss: 7.4932 - mae: 2.2595 - val_loss: 9.6463 - val_mae: 2.2168\n",
            "Epoch 13/50\n",
            "\u001b[1m10/10\u001b[0m \u001b[32m━━━━━━━━━━━━━━━━━━━━\u001b[0m\u001b[37m\u001b[0m \u001b[1m0s\u001b[0m 10ms/step - loss: 9.4612 - mae: 2.4374 - val_loss: 8.9479 - val_mae: 2.2597\n",
            "Epoch 14/50\n",
            "\u001b[1m10/10\u001b[0m \u001b[32m━━━━━━━━━━━━━━━━━━━━\u001b[0m\u001b[37m\u001b[0m \u001b[1m0s\u001b[0m 9ms/step - loss: 6.9818 - mae: 1.9869 - val_loss: 8.9937 - val_mae: 2.6527\n",
            "Epoch 15/50\n",
            "\u001b[1m10/10\u001b[0m \u001b[32m━━━━━━━━━━━━━━━━━━━━\u001b[0m\u001b[37m\u001b[0m \u001b[1m0s\u001b[0m 10ms/step - loss: 6.7472 - mae: 2.1045 - val_loss: 8.5602 - val_mae: 2.3692\n",
            "Epoch 16/50\n",
            "\u001b[1m10/10\u001b[0m \u001b[32m━━━━━━━━━━━━━━━━━━━━\u001b[0m\u001b[37m\u001b[0m \u001b[1m0s\u001b[0m 10ms/step - loss: 7.3550 - mae: 2.1467 - val_loss: 8.7625 - val_mae: 2.4231\n",
            "Epoch 17/50\n",
            "\u001b[1m10/10\u001b[0m \u001b[32m━━━━━━━━━━━━━━━━━━━━\u001b[0m\u001b[37m\u001b[0m \u001b[1m0s\u001b[0m 10ms/step - loss: 7.1113 - mae: 2.0094 - val_loss: 8.8284 - val_mae: 2.5614\n",
            "Epoch 18/50\n",
            "\u001b[1m10/10\u001b[0m \u001b[32m━━━━━━━━━━━━━━━━━━━━\u001b[0m\u001b[37m\u001b[0m \u001b[1m0s\u001b[0m 10ms/step - loss: 6.8553 - mae: 2.0997 - val_loss: 8.3936 - val_mae: 2.3442\n",
            "Epoch 19/50\n",
            "\u001b[1m10/10\u001b[0m \u001b[32m━━━━━━━━━━━━━━━━━━━━\u001b[0m\u001b[37m\u001b[0m \u001b[1m0s\u001b[0m 10ms/step - loss: 6.1706 - mae: 1.9308 - val_loss: 8.4415 - val_mae: 2.3705\n",
            "Epoch 20/50\n",
            "\u001b[1m10/10\u001b[0m \u001b[32m━━━━━━━━━━━━━━━━━━━━\u001b[0m\u001b[37m\u001b[0m \u001b[1m0s\u001b[0m 10ms/step - loss: 5.9477 - mae: 1.9051 - val_loss: 9.1644 - val_mae: 2.6748\n",
            "Epoch 21/50\n",
            "\u001b[1m10/10\u001b[0m \u001b[32m━━━━━━━━━━━━━━━━━━━━\u001b[0m\u001b[37m\u001b[0m \u001b[1m0s\u001b[0m 10ms/step - loss: 6.9409 - mae: 2.1935 - val_loss: 8.8923 - val_mae: 2.6238\n",
            "Epoch 22/50\n",
            "\u001b[1m10/10\u001b[0m \u001b[32m━━━━━━━━━━━━━━━━━━━━\u001b[0m\u001b[37m\u001b[0m \u001b[1m0s\u001b[0m 10ms/step - loss: 7.1966 - mae: 2.1923 - val_loss: 8.5584 - val_mae: 2.3341\n",
            "Epoch 23/50\n",
            "\u001b[1m10/10\u001b[0m \u001b[32m━━━━━━━━━━━━━━━━━━━━\u001b[0m\u001b[37m\u001b[0m \u001b[1m0s\u001b[0m 10ms/step - loss: 7.2288 - mae: 2.1816 - val_loss: 8.6953 - val_mae: 2.3011\n",
            "Epoch 24/50\n",
            "\u001b[1m10/10\u001b[0m \u001b[32m━━━━━━━━━━━━━━━━━━━━\u001b[0m\u001b[37m\u001b[0m \u001b[1m0s\u001b[0m 10ms/step - loss: 6.0844 - mae: 1.9012 - val_loss: 9.2282 - val_mae: 2.7214\n",
            "Epoch 25/50\n",
            "\u001b[1m10/10\u001b[0m \u001b[32m━━━━━━━━━━━━━━━━━━━━\u001b[0m\u001b[37m\u001b[0m \u001b[1m0s\u001b[0m 10ms/step - loss: 6.8567 - mae: 2.1561 - val_loss: 8.4624 - val_mae: 2.3687\n",
            "Epoch 26/50\n",
            "\u001b[1m10/10\u001b[0m \u001b[32m━━━━━━━━━━━━━━━━━━━━\u001b[0m\u001b[37m\u001b[0m \u001b[1m0s\u001b[0m 10ms/step - loss: 6.1689 - mae: 2.0171 - val_loss: 8.7843 - val_mae: 2.3268\n",
            "Epoch 27/50\n",
            "\u001b[1m10/10\u001b[0m \u001b[32m━━━━━━━━━━━━━━━━━━━━\u001b[0m\u001b[37m\u001b[0m \u001b[1m0s\u001b[0m 9ms/step - loss: 5.3278 - mae: 1.8458 - val_loss: 8.2389 - val_mae: 2.2903\n",
            "Epoch 28/50\n",
            "\u001b[1m10/10\u001b[0m \u001b[32m━━━━━━━━━━━━━━━━━━━━\u001b[0m\u001b[37m\u001b[0m \u001b[1m0s\u001b[0m 9ms/step - loss: 5.0789 - mae: 1.7400 - val_loss: 8.2261 - val_mae: 2.3215\n",
            "Epoch 29/50\n",
            "\u001b[1m10/10\u001b[0m \u001b[32m━━━━━━━━━━━━━━━━━━━━\u001b[0m\u001b[37m\u001b[0m \u001b[1m0s\u001b[0m 10ms/step - loss: 5.7889 - mae: 1.9200 - val_loss: 8.0919 - val_mae: 2.2809\n",
            "Epoch 30/50\n",
            "\u001b[1m10/10\u001b[0m \u001b[32m━━━━━━━━━━━━━━━━━━━━\u001b[0m\u001b[37m\u001b[0m \u001b[1m0s\u001b[0m 10ms/step - loss: 6.0585 - mae: 1.8716 - val_loss: 7.9877 - val_mae: 2.2588\n",
            "Epoch 31/50\n",
            "\u001b[1m10/10\u001b[0m \u001b[32m━━━━━━━━━━━━━━━━━━━━\u001b[0m\u001b[37m\u001b[0m \u001b[1m0s\u001b[0m 10ms/step - loss: 5.9042 - mae: 1.8769 - val_loss: 8.0582 - val_mae: 2.2850\n",
            "Epoch 32/50\n",
            "\u001b[1m10/10\u001b[0m \u001b[32m━━━━━━━━━━━━━━━━━━━━\u001b[0m\u001b[37m\u001b[0m \u001b[1m0s\u001b[0m 10ms/step - loss: 6.0201 - mae: 1.9452 - val_loss: 8.2859 - val_mae: 2.1987\n",
            "Epoch 33/50\n",
            "\u001b[1m10/10\u001b[0m \u001b[32m━━━━━━━━━━━━━━━━━━━━\u001b[0m\u001b[37m\u001b[0m \u001b[1m0s\u001b[0m 10ms/step - loss: 5.1296 - mae: 1.7592 - val_loss: 8.1101 - val_mae: 2.4673\n",
            "Epoch 34/50\n",
            "\u001b[1m10/10\u001b[0m \u001b[32m━━━━━━━━━━━━━━━━━━━━\u001b[0m\u001b[37m\u001b[0m \u001b[1m0s\u001b[0m 10ms/step - loss: 5.4588 - mae: 1.8807 - val_loss: 7.9192 - val_mae: 2.4162\n",
            "Epoch 35/50\n",
            "\u001b[1m10/10\u001b[0m \u001b[32m━━━━━━━━━━━━━━━━━━━━\u001b[0m\u001b[37m\u001b[0m \u001b[1m0s\u001b[0m 10ms/step - loss: 5.5866 - mae: 1.9151 - val_loss: 8.0416 - val_mae: 2.3500\n",
            "Epoch 36/50\n",
            "\u001b[1m10/10\u001b[0m \u001b[32m━━━━━━━━━━━━━━━━━━━━\u001b[0m\u001b[37m\u001b[0m \u001b[1m0s\u001b[0m 10ms/step - loss: 4.7574 - mae: 1.7784 - val_loss: 8.0965 - val_mae: 2.2194\n",
            "Epoch 37/50\n",
            "\u001b[1m10/10\u001b[0m \u001b[32m━━━━━━━━━━━━━━━━━━━━\u001b[0m\u001b[37m\u001b[0m \u001b[1m0s\u001b[0m 10ms/step - loss: 5.0103 - mae: 1.8147 - val_loss: 8.4585 - val_mae: 2.1195\n",
            "Epoch 38/50\n",
            "\u001b[1m10/10\u001b[0m \u001b[32m━━━━━━━━━━━━━━━━━━━━\u001b[0m\u001b[37m\u001b[0m \u001b[1m0s\u001b[0m 9ms/step - loss: 4.6617 - mae: 1.6981 - val_loss: 7.7145 - val_mae: 2.1684\n",
            "Epoch 39/50\n",
            "\u001b[1m10/10\u001b[0m \u001b[32m━━━━━━━━━━━━━━━━━━━━\u001b[0m\u001b[37m\u001b[0m \u001b[1m0s\u001b[0m 10ms/step - loss: 4.4104 - mae: 1.6518 - val_loss: 7.8294 - val_mae: 2.3315\n",
            "Epoch 40/50\n",
            "\u001b[1m10/10\u001b[0m \u001b[32m━━━━━━━━━━━━━━━━━━━━\u001b[0m\u001b[37m\u001b[0m \u001b[1m0s\u001b[0m 10ms/step - loss: 4.9648 - mae: 1.8003 - val_loss: 8.4865 - val_mae: 2.4646\n",
            "Epoch 41/50\n",
            "\u001b[1m10/10\u001b[0m \u001b[32m━━━━━━━━━━━━━━━━━━━━\u001b[0m\u001b[37m\u001b[0m \u001b[1m0s\u001b[0m 9ms/step - loss: 4.7538 - mae: 1.7542 - val_loss: 7.7950 - val_mae: 2.2090\n",
            "Epoch 42/50\n",
            "\u001b[1m10/10\u001b[0m \u001b[32m━━━━━━━━━━━━━━━━━━━━\u001b[0m\u001b[37m\u001b[0m \u001b[1m0s\u001b[0m 10ms/step - loss: 4.6204 - mae: 1.7832 - val_loss: 8.2902 - val_mae: 2.0859\n",
            "Epoch 43/50\n",
            "\u001b[1m10/10\u001b[0m \u001b[32m━━━━━━━━━━━━━━━━━━━━\u001b[0m\u001b[37m\u001b[0m \u001b[1m0s\u001b[0m 10ms/step - loss: 4.5257 - mae: 1.6424 - val_loss: 7.7303 - val_mae: 2.1621\n",
            "Epoch 44/50\n",
            "\u001b[1m10/10\u001b[0m \u001b[32m━━━━━━━━━━━━━━━━━━━━\u001b[0m\u001b[37m\u001b[0m \u001b[1m0s\u001b[0m 10ms/step - loss: 4.0193 - mae: 1.6029 - val_loss: 7.8588 - val_mae: 2.0916\n",
            "Epoch 45/50\n",
            "\u001b[1m10/10\u001b[0m \u001b[32m━━━━━━━━━━━━━━━━━━━━\u001b[0m\u001b[37m\u001b[0m \u001b[1m0s\u001b[0m 10ms/step - loss: 4.0102 - mae: 1.6321 - val_loss: 7.7434 - val_mae: 2.1072\n",
            "Epoch 46/50\n",
            "\u001b[1m10/10\u001b[0m \u001b[32m━━━━━━━━━━━━━━━━━━━━\u001b[0m\u001b[37m\u001b[0m \u001b[1m0s\u001b[0m 10ms/step - loss: 3.8156 - mae: 1.5304 - val_loss: 7.7279 - val_mae: 2.0743\n",
            "Epoch 47/50\n",
            "\u001b[1m10/10\u001b[0m \u001b[32m━━━━━━━━━━━━━━━━━━━━\u001b[0m\u001b[37m\u001b[0m \u001b[1m0s\u001b[0m 10ms/step - loss: 3.3270 - mae: 1.4996 - val_loss: 7.5808 - val_mae: 2.2023\n",
            "Epoch 48/50\n",
            "\u001b[1m10/10\u001b[0m \u001b[32m━━━━━━━━━━━━━━━━━━━━\u001b[0m\u001b[37m\u001b[0m \u001b[1m0s\u001b[0m 9ms/step - loss: 3.1642 - mae: 1.4125 - val_loss: 7.5960 - val_mae: 2.2078\n",
            "Epoch 49/50\n",
            "\u001b[1m10/10\u001b[0m \u001b[32m━━━━━━━━━━━━━━━━━━━━\u001b[0m\u001b[37m\u001b[0m \u001b[1m0s\u001b[0m 9ms/step - loss: 3.2415 - mae: 1.4617 - val_loss: 7.3405 - val_mae: 2.2508\n",
            "Epoch 50/50\n",
            "\u001b[1m10/10\u001b[0m \u001b[32m━━━━━━━━━━━━━━━━━━━━\u001b[0m\u001b[37m\u001b[0m \u001b[1m0s\u001b[0m 10ms/step - loss: 2.8925 - mae: 1.3536 - val_loss: 7.5441 - val_mae: 2.2319\n",
            "\u001b[1m4/4\u001b[0m \u001b[32m━━━━━━━━━━━━━━━━━━━━\u001b[0m\u001b[37m\u001b[0m \u001b[1m0s\u001b[0m 61ms/step - loss: 9.2853 - mae: 2.2993\n"
          ]
        },
        {
          "output_type": "execute_result",
          "data": {
            "text/plain": [
              "(8.301755905151367, 2.2014665603637695)"
            ]
          },
          "metadata": {},
          "execution_count": 18
        }
      ]
    },
    {
      "cell_type": "code",
      "source": [
        "# Predict on the test set\n",
        "# Reverse Log Transfomation\n",
        "y_pred_log = model.predict(X_test_scaled.squeeze())\n",
        "\n",
        "y_pred = np.expm1(y_pred_log)\n",
        "y_test = np.expm1(y_test)\n",
        "# Evaluate regression metrics\n",
        "mae = mean_absolute_error(y_test, y_pred)\n",
        "rmse = np.sqrt(mean_squared_error(y_test, y_pred))\n",
        "r2 = r2_score(y_test, y_pred)\n",
        "\n",
        "mae, rmse, r2"
      ],
      "metadata": {
        "colab": {
          "base_uri": "https://localhost:8080/"
        },
        "id": "R7owBsYmjO_M",
        "outputId": "c8699ae3-de60-4c8e-ed28-04839b390d4b"
      },
      "execution_count": 19,
      "outputs": [
        {
          "output_type": "stream",
          "name": "stdout",
          "text": [
            "\u001b[1m4/4\u001b[0m \u001b[32m━━━━━━━━━━━━━━━━━━━━\u001b[0m\u001b[37m\u001b[0m \u001b[1m0s\u001b[0m 68ms/step\n"
          ]
        },
        {
          "output_type": "execute_result",
          "data": {
            "text/plain": [
              "(3957.4480577236404, 15176.43568771601, 0.17603965515391273)"
            ]
          },
          "metadata": {},
          "execution_count": 19
        }
      ]
    },
    {
      "cell_type": "code",
      "source": [
        "import matplotlib.pyplot as plt\n",
        "\n",
        "plt.figure(figsize=(8, 6))\n",
        "plt.scatter(y_test, y_pred, alpha=0.7)\n",
        "plt.xlabel(\"Actual Vomitoxin (ppb)\")\n",
        "plt.ylabel(\"Predicted Vomitoxin (ppb)\")\n",
        "plt.title(\"Scatter Plot of Actual vs. Predicted Values\")\n",
        "plt.plot([y_test.min(), y_test.max()], [y_test.min(), y_test.max()], 'r--', linewidth=2)\n",
        "plt.grid(True)\n",
        "plt.show()\n"
      ],
      "metadata": {
        "colab": {
          "base_uri": "https://localhost:8080/",
          "height": 584
        },
        "id": "6HI3aUNHl3gZ",
        "outputId": "1e18e2c0-fc4e-444e-941d-8477e1ba387b"
      },
      "execution_count": 20,
      "outputs": [
        {
          "output_type": "display_data",
          "data": {
            "text/plain": [
              "<Figure size 800x600 with 1 Axes>"
            ],
            "image/png": "[encoded data removed]"
          },
          "metadata": {}
        }
      ]
    }
  ]
}